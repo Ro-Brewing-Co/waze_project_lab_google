{
  "cells": [
    {
      "cell_type": "markdown",
      "metadata": {
        "id": "DtNBZFHO3M7n"
      },
      "source": [
        "# **Waze Project**\n",
        "**Course 6 - The nuts and bolts of machine learning**"
      ]
    },
    {
      "cell_type": "markdown",
      "metadata": {
        "id": "XfCZ5KuI_2lT"
      },
      "source": [
        "Your team is close to completing their user churn project. Previously, you completed a project proposal, and used Python to explore and analyze Waze’s user data, create data visualizations, and conduct a hypothesis test. Most recently, you built a binomial logistic regression model based on multiple variables.\n",
        "\n",
        "Leadership appreciates all your hard work. Now, they want your team to build a machine learning model to predict user churn. To get the best results, your team decides to build and test two tree-based models: random forest and XGBoost.\n",
        "\n",
        "Your work will help leadership make informed business decisions to prevent user churn, improve user retention, and grow Waze’s business.\n"
      ]
    },
    {
      "cell_type": "markdown",
      "metadata": {
        "id": "rgSbVJvomcVa"
      },
      "source": [
        "# **Course 6 End-of-Course Project: Build a machine learning model**\n",
        "\n",
        "In this activity, you will practice using tree-based modeling techniques to predict on a binary target class.\n",
        "<br/>\n",
        "\n",
        "**The purpose** of this model is to find factors that drive user churn.\n",
        "\n",
        "**The goal** of this model is to predict whether or not a Waze user is retained or churned.\n",
        "<br/>\n",
        "\n",
        "*This activity has three parts:*\n",
        "\n",
        "**Part 1:** Ethical considerations\n",
        "* Consider the ethical implications of the request\n",
        "\n",
        "* Should the objective of the model be adjusted?\n",
        "\n",
        "**Part 2:** Feature engineering\n",
        "\n",
        "* Perform feature selection, extraction, and transformation to prepare the data for modeling\n",
        "\n",
        "**Part 3:** Modeling\n",
        "\n",
        "* Build the models, evaluate them, and advise on next steps\n",
        "\n",
        "Follow the instructions and answer the questions below to complete the activity. Then, you will complete an Executive Summary using the questions listed on the PACE Strategy Document.\n",
        "\n",
        "Be sure to complete this activity before moving on. The next course item will provide you with a completed exemplar to compare to your own work.\n",
        "\n"
      ]
    },
    {
      "cell_type": "markdown",
      "metadata": {
        "id": "SsrI9g32nrAs"
      },
      "source": [
        "# **Build a machine learning model**\n"
      ]
    },
    {
      "cell_type": "markdown",
      "metadata": {
        "id": "NzDjfCSLf6Jq"
      },
      "source": [
        "<img src=\"images/Pace.png\" width=\"100\" height=\"100\" align=left>\n",
        "\n",
        "# **PACE stages**\n"
      ]
    },
    {
      "cell_type": "markdown",
      "metadata": {
        "id": "R8kJRDEKn4A-"
      },
      "source": [
        "Throughout these project notebooks, you'll see references to the problem-solving framework PACE. The following notebook components are labeled with the respective PACE stage: Plan, Analyze, Construct, and Execute."
      ]
    },
    {
      "cell_type": "markdown",
      "metadata": {
        "id": "E5g1A74r0ow_"
      },
      "source": [
        "<img src=\"images/Plan.png\" width=\"100\" height=\"100\" align=left>\n",
        "\n",
        "\n",
        "## **PACE: Plan**\n",
        "\n",
        "Consider the questions in your PACE Strategy Document to reflect on the Plan stage.\n",
        "\n",
        "In this stage, consider the following questions:\n",
        "\n",
        "1.   What are you being asked to do?\n",
        "\n",
        "\n",
        "2.   What are the ethical implications of the model? What are the consequences of your model making errors?\n",
        "  *   What is the likely effect of the model when it predicts a false negative (i.e., when the model says a Waze user won't churn, but they actually will)?\n",
        "  *   What is the likely effect of the model when it predicts a false positive (i.e., when the model says a Waze user will churn, but they actually won't)?\n",
        "\n",
        "3.  Do the benefits of such a model outweigh the potential problems?\n",
        "4.  Would you proceed with the request to build this model? Why or why not?\n",
        "\n"
      ]
    },
    {
      "cell_type": "markdown",
      "metadata": {
        "id": "y755T4Q18iwC"
      },
      "source": [
        "### **Etapa de PLAN (PACE): Desarrollo de Modelos para Predecir la Rotación de Usuarios en Waze**  \n",
        "\n",
        "En esta etapa de **PLANIFICACIÓN** dentro del marco **PACE**, nos enfocamos en comprender el objetivo del proyecto, las implicaciones éticas, el impacto de los errores del modelo y si vale la pena seguir adelante con el desarrollo.  \n",
        "\n",
        "---\n",
        "\n",
        "####  **1. ¿Qué se le pide que haga?**  \n",
        "Se nos solicita **desarrollar y evaluar dos modelos de aprendizaje automático** (Bosque Aleatorio y XGBoost) para predecir la **rotación de usuarios (churn)** en Waze. El objetivo principal es identificar qué factores impulsan la **pérdida de usuarios** para ayudar a la dirección a tomar decisiones informadas que:  \n",
        "- **Mejoren la retención de usuarios**.  \n",
        "- **Prevengan la fuga de usuarios**.  \n",
        "- **Optimicen estrategias de negocio** para mantener la base de usuarios activa y comprometida.  \n",
        "\n",
        "---\n",
        "\n",
        "####  **2. Implicaciones éticas del modelo**  \n",
        "El modelo podría tener implicaciones éticas significativas, especialmente en lo relacionado con el **uso de datos personales** y la **toma de decisiones automatizada**.  \n",
        "\n",
        "##### **Consideraciones éticas clave:**  \n",
        "- **Privacidad de los Datos:**  \n",
        "  - Waze maneja datos personales sensibles, como información de ubicación y patrones de uso.  \n",
        "  - Es fundamental garantizar el **cumplimiento de normativas de privacidad**.  \n",
        "- **Sesgo Algorítmico:**  \n",
        "  - Si el modelo se entrena con datos históricos sesgados, podría perpetuar patrones de discriminación.  \n",
        "  - Debemos evaluar el sesgo en los datos y en las predicciones para asegurar que el modelo sea **justo y equitativo**.  \n",
        "- **Impacto Social:**  \n",
        "  - Si el modelo sugiere estrategias para mantener solo a ciertos perfiles de usuarios, podría crear desigualdades en el servicio.  \n",
        "- **Transparencia y Explicabilidad:**  \n",
        "  - Es fundamental que los resultados del modelo sean **interpretables**, especialmente si se utilizan para tomar decisiones comerciales significativas.  \n",
        "\n",
        "---\n",
        "\n",
        "####  **Consecuencias de errores del modelo:**  \n",
        "Cuando se desarrollan modelos para predecir la rotación de usuarios, es fundamental considerar los **tipos de errores** y su impacto.  \n",
        "\n",
        "##### **Error de Falso Negativo:**  \n",
        "- **Descripción:** El modelo predice que el usuario **no abandonará**, pero en realidad lo hace.  \n",
        "- **Consecuencias:**  \n",
        "  - **Pérdida de Clientes:** La empresa no toma medidas proactivas para retener al usuario, lo que resulta en una baja efectiva.  \n",
        "  - **Impacto Comercial:** Podría representar una pérdida significativa de ingresos si los usuarios de alto valor no son identificados a tiempo.  \n",
        "- **Mitigación:**  \n",
        "  - Usar métricas que prioricen el **recall**, asegurando que el modelo identifique correctamente la mayor cantidad posible de usuarios que podrían abandonar.  \n",
        "\n",
        "---\n",
        "\n",
        "##### **Error de Falso Positivo:**  \n",
        "- **Descripción:** El modelo predice que el usuario **abandonará**, pero en realidad no lo hace.  \n",
        "- **Consecuencias:**  \n",
        "  - **Costos Innecesarios:** La empresa podría invertir recursos en campañas de retención para usuarios que no planeaban irse.  \n",
        "  - **Experiencia del Usuario:** Podría generar incomodidad en los usuarios que reciben mensajes de retención sin necesidad.  \n",
        "- **Mitigación:**  \n",
        "  - Evaluar el impacto financiero de los **falsos positivos** y ajustar el modelo para optimizar la **precisión** cuando el costo de un falso positivo sea elevado.  \n",
        "\n",
        "---\n",
        "\n",
        "#### **3. ¿Superan los beneficios de este modelo los posibles problemas?**  \n",
        "Sí, los beneficios superan los problemas siempre y cuando se tomen las **precauciones adecuadas**:  \n",
        "\n",
        "##### **Beneficios Potenciales:**  \n",
        "- **Retención de Usuarios:**  \n",
        "  - Permite identificar patrones de abandono para tomar acciones proactivas (como promociones personalizadas o mejoras en el servicio).  \n",
        "- **Toma de Decisiones Informada:**  \n",
        "  - Facilita el diseño de estrategias centradas en la fidelización, lo que puede resultar en una **reducción significativa de la pérdida de usuarios**.  \n",
        "- **Optimización de Recursos:**  \n",
        "  - Permite enfocar las campañas de marketing en usuarios con mayor riesgo de abandonar, maximizando el retorno de inversión (ROI).  \n",
        "- **Crecimiento del Negocio:**  \n",
        "  - Al mantener una base de usuarios estable, la empresa garantiza una fuente continua de datos para mejorar la experiencia de la aplicación.  \n",
        "\n",
        "#####  **Posibles Problemas y Soluciones:**  \n",
        "- **Privacidad de los Datos:**  \n",
        "  - Implementar estrategias de anonimización y cumplir con las normativas de protección de datos.  \n",
        "- **Costos por Falsos Positivos:**  \n",
        "  - Realizar un análisis de costo-beneficio para equilibrar la **tasa de falsos positivos** frente al costo de la intervención.  \n",
        "\n",
        "---\n",
        "\n",
        "#### **4. ¿Seguirías adelante con la solicitud de crear este modelo? ¿Por qué sí o por qué no?**  \n",
        "**Sí, seguiría adelante con la creación del modelo**, ya que:  \n",
        "- Los **beneficios comerciales** son significativos si logramos identificar correctamente los usuarios en riesgo de abandonar.  \n",
        "- Podemos mitigar los problemas éticos y financieros mediante un diseño cuidadoso del modelo, priorizando la **transparencia** y el **cumplimiento normativo**.  \n",
        "- La combinación de **Bosque Aleatorio y XGBoost** proporciona un enfoque robusto que combina precisión y capacidad de generalización, maximizando la efectividad de la predicción.  \n",
        "- Además, una vez identificado el riesgo de rotación, se pueden implementar estrategias específicas para reducirla, como **incentivos personalizados** o **mejoras en la experiencia del usuario**.    "
      ]
    },
    {
      "cell_type": "markdown",
      "metadata": {
        "id": "e8Vm3QEfGELS"
      },
      "source": [
        "### **Task 1. Imports and data loading**\n",
        "\n",
        "Import packages and libraries needed to build and evaluate random forest and XGBoost classification models."
      ]
    },
    {
      "cell_type": "code",
      "execution_count": null,
      "metadata": {
        "id": "fKhnX2Puf4Bt"
      },
      "outputs": [],
      "source": [
        "# Import packages for data manipulation\n",
        "import pandas as pd       # Para manipulación de datos en formato tabular\n",
        "import numpy as np        # Para cálculos numéricos y matrices\n",
        "\n",
        "# Import packages for data visualization\n",
        "import matplotlib.pyplot as plt    # Para crear gráficos básicos\n",
        "import seaborn as sns              # Para gráficos estadísticos más avanzados\n",
        "plt.style.use('ggplot')            # Estilo de gráficos más elegante\n",
        "sns.set_theme()                    # Tema predeterminado para gráficos de Seaborn\n",
        "\n",
        "# This lets us see all of the columns, preventing Juptyer from redacting them.\n",
        "pd.set_option('display.max_columns', None)\n",
        "\n",
        "# Import packages for data modeling\n",
        "# Modelos de aprendizaje automático\n",
        "from sklearn.ensemble import RandomForestClassifier    # Modelo de bosque aleatorio\n",
        "from xgboost import XGBClassifier                      # Modelo XGBoost\n",
        "\n",
        "# División de los datos en entrenamiento y prueba\n",
        "from sklearn.model_selection import train_test_split    # Para crear conjuntos de entrenamiento y prueba\n",
        "\n",
        "# Búsqueda de hiperparámetros\n",
        "from sklearn.model_selection import GridSearchCV        # Para optimización de hiperparámetros\n",
        "\n",
        "# Preprocesamiento de datos\n",
        "from sklearn.preprocessing import StandardScaler        # Para escalar características numéricas\n",
        "\n",
        "# Evaluación del modelo\n",
        "from sklearn.metrics import make_scorer, accuracy_score, confusion_matrix, classification_report, roc_auc_score, roc_curve, precision_score\n",
        "from sklearn.metrics import make_scorer, precision_score, recall_score, f1_score, accuracy_score\n",
        "from sklearn.metrics import accuracy_score, precision_score, recall_score,\\\n",
        "f1_score, confusion_matrix, ConfusionMatrixDisplay, RocCurveDisplay, PrecisionRecallDisplay\n",
        "\n",
        "# This is the function that helps plot feature importance\n",
        "from xgboost import plot_importance\n",
        "\n",
        "# # This module lets us save our models once we fit them.\n",
        "import pickle"
      ]
    },
    {
      "cell_type": "markdown",
      "metadata": {
        "id": "IeXTZ2tdbALL"
      },
      "source": [
        "Now read in the dataset as `df0` and inspect the first five rows.\n",
        "\n",
        "**Note:** As shown in this cell, the dataset has been automatically loaded in for you. You do not need to download the .csv file, or provide more code, in order to access the dataset and proceed with this lab. Please continue with this activity by completing the following instructions."
      ]
    },
    {
      "cell_type": "code",
      "execution_count": null,
      "metadata": {
        "id": "5weTXGKqa_iG"
      },
      "outputs": [],
      "source": [
        "# Import dataset\n",
        "df0 = pd.read_csv('waze_dataset.csv')"
      ]
    },
    {
      "cell_type": "code",
      "execution_count": null,
      "metadata": {
        "id": "1HyORSaQo_LU",
        "outputId": "0b737a00-b2cd-4e43-c9a1-291295ba0482"
      },
      "outputs": [
        {
          "data": {
            "text/html": [
              "<div>\n",
              "<style scoped>\n",
              "    .dataframe tbody tr th:only-of-type {\n",
              "        vertical-align: middle;\n",
              "    }\n",
              "\n",
              "    .dataframe tbody tr th {\n",
              "        vertical-align: top;\n",
              "    }\n",
              "\n",
              "    .dataframe thead th {\n",
              "        text-align: right;\n",
              "    }\n",
              "</style>\n",
              "<table border=\"1\" class=\"dataframe\">\n",
              "  <thead>\n",
              "    <tr style=\"text-align: right;\">\n",
              "      <th></th>\n",
              "      <th>ID</th>\n",
              "      <th>label</th>\n",
              "      <th>sessions</th>\n",
              "      <th>drives</th>\n",
              "      <th>total_sessions</th>\n",
              "      <th>n_days_after_onboarding</th>\n",
              "      <th>total_navigations_fav1</th>\n",
              "      <th>total_navigations_fav2</th>\n",
              "      <th>driven_km_drives</th>\n",
              "      <th>duration_minutes_drives</th>\n",
              "      <th>activity_days</th>\n",
              "      <th>driving_days</th>\n",
              "      <th>device</th>\n",
              "    </tr>\n",
              "  </thead>\n",
              "  <tbody>\n",
              "    <tr>\n",
              "      <th>0</th>\n",
              "      <td>0</td>\n",
              "      <td>retained</td>\n",
              "      <td>283</td>\n",
              "      <td>226</td>\n",
              "      <td>296.748273</td>\n",
              "      <td>2276</td>\n",
              "      <td>208</td>\n",
              "      <td>0</td>\n",
              "      <td>2628.845068</td>\n",
              "      <td>1985.775061</td>\n",
              "      <td>28</td>\n",
              "      <td>19</td>\n",
              "      <td>Android</td>\n",
              "    </tr>\n",
              "    <tr>\n",
              "      <th>1</th>\n",
              "      <td>1</td>\n",
              "      <td>retained</td>\n",
              "      <td>133</td>\n",
              "      <td>107</td>\n",
              "      <td>326.896596</td>\n",
              "      <td>1225</td>\n",
              "      <td>19</td>\n",
              "      <td>64</td>\n",
              "      <td>13715.920550</td>\n",
              "      <td>3160.472914</td>\n",
              "      <td>13</td>\n",
              "      <td>11</td>\n",
              "      <td>iPhone</td>\n",
              "    </tr>\n",
              "    <tr>\n",
              "      <th>2</th>\n",
              "      <td>2</td>\n",
              "      <td>retained</td>\n",
              "      <td>114</td>\n",
              "      <td>95</td>\n",
              "      <td>135.522926</td>\n",
              "      <td>2651</td>\n",
              "      <td>0</td>\n",
              "      <td>0</td>\n",
              "      <td>3059.148818</td>\n",
              "      <td>1610.735904</td>\n",
              "      <td>14</td>\n",
              "      <td>8</td>\n",
              "      <td>Android</td>\n",
              "    </tr>\n",
              "    <tr>\n",
              "      <th>3</th>\n",
              "      <td>3</td>\n",
              "      <td>retained</td>\n",
              "      <td>49</td>\n",
              "      <td>40</td>\n",
              "      <td>67.589221</td>\n",
              "      <td>15</td>\n",
              "      <td>322</td>\n",
              "      <td>7</td>\n",
              "      <td>913.591123</td>\n",
              "      <td>587.196542</td>\n",
              "      <td>7</td>\n",
              "      <td>3</td>\n",
              "      <td>iPhone</td>\n",
              "    </tr>\n",
              "    <tr>\n",
              "      <th>4</th>\n",
              "      <td>4</td>\n",
              "      <td>retained</td>\n",
              "      <td>84</td>\n",
              "      <td>68</td>\n",
              "      <td>168.247020</td>\n",
              "      <td>1562</td>\n",
              "      <td>166</td>\n",
              "      <td>5</td>\n",
              "      <td>3950.202008</td>\n",
              "      <td>1219.555924</td>\n",
              "      <td>27</td>\n",
              "      <td>18</td>\n",
              "      <td>Android</td>\n",
              "    </tr>\n",
              "  </tbody>\n",
              "</table>\n",
              "</div>"
            ],
            "text/plain": [
              "   ID     label  sessions  drives  total_sessions  n_days_after_onboarding  \\\n",
              "0   0  retained       283     226      296.748273                     2276   \n",
              "1   1  retained       133     107      326.896596                     1225   \n",
              "2   2  retained       114      95      135.522926                     2651   \n",
              "3   3  retained        49      40       67.589221                       15   \n",
              "4   4  retained        84      68      168.247020                     1562   \n",
              "\n",
              "   total_navigations_fav1  total_navigations_fav2  driven_km_drives  \\\n",
              "0                     208                       0       2628.845068   \n",
              "1                      19                      64      13715.920550   \n",
              "2                       0                       0       3059.148818   \n",
              "3                     322                       7        913.591123   \n",
              "4                     166                       5       3950.202008   \n",
              "\n",
              "   duration_minutes_drives  activity_days  driving_days   device  \n",
              "0              1985.775061             28            19  Android  \n",
              "1              3160.472914             13            11   iPhone  \n",
              "2              1610.735904             14             8  Android  \n",
              "3               587.196542              7             3   iPhone  \n",
              "4              1219.555924             27            18  Android  "
            ]
          },
          "execution_count": 3,
          "metadata": {},
          "output_type": "execute_result"
        }
      ],
      "source": [
        "# Inspect the first five rows\n",
        "df0.head()"
      ]
    },
    {
      "cell_type": "markdown",
      "metadata": {
        "id": "EgPRBjizg1oo"
      },
      "source": [
        "<img src=\"images/Analyze.png\" width=\"100\" height=\"100\" align=left>\n",
        "\n",
        "## **PACE: Analyze**\n",
        "Consider the questions in your PACE Strategy Document to reflect on the Analyze stage."
      ]
    },
    {
      "cell_type": "markdown",
      "metadata": {
        "id": "5VZowX9rhU1o"
      },
      "source": [
        "### **Task 2. Feature engineering**\n",
        "\n",
        "You have already prepared much of this data and performed exploratory data analysis (EDA) in previous courses. You know that some features had stronger correlations with churn than others, and you also created some features that may be useful.\n",
        "\n",
        "In this part of the project, you'll engineer these features and some new features to use for modeling.\n",
        "\n",
        "To begin, create a copy of `df0` to preserve the original dataframe. Call the copy `df`."
      ]
    },
    {
      "cell_type": "code",
      "execution_count": null,
      "metadata": {
        "id": "mBOSW8IDbO_d",
        "outputId": "73868192-a1b9-4d71-9a25-b5d9047344a2"
      },
      "outputs": [
        {
          "data": {
            "text/html": [
              "<div>\n",
              "<style scoped>\n",
              "    .dataframe tbody tr th:only-of-type {\n",
              "        vertical-align: middle;\n",
              "    }\n",
              "\n",
              "    .dataframe tbody tr th {\n",
              "        vertical-align: top;\n",
              "    }\n",
              "\n",
              "    .dataframe thead th {\n",
              "        text-align: right;\n",
              "    }\n",
              "</style>\n",
              "<table border=\"1\" class=\"dataframe\">\n",
              "  <thead>\n",
              "    <tr style=\"text-align: right;\">\n",
              "      <th></th>\n",
              "      <th>ID</th>\n",
              "      <th>label</th>\n",
              "      <th>sessions</th>\n",
              "      <th>drives</th>\n",
              "      <th>total_sessions</th>\n",
              "      <th>n_days_after_onboarding</th>\n",
              "      <th>total_navigations_fav1</th>\n",
              "      <th>total_navigations_fav2</th>\n",
              "      <th>driven_km_drives</th>\n",
              "      <th>duration_minutes_drives</th>\n",
              "      <th>activity_days</th>\n",
              "      <th>driving_days</th>\n",
              "      <th>device</th>\n",
              "    </tr>\n",
              "  </thead>\n",
              "  <tbody>\n",
              "    <tr>\n",
              "      <th>0</th>\n",
              "      <td>0</td>\n",
              "      <td>retained</td>\n",
              "      <td>283</td>\n",
              "      <td>226</td>\n",
              "      <td>296.748273</td>\n",
              "      <td>2276</td>\n",
              "      <td>208</td>\n",
              "      <td>0</td>\n",
              "      <td>2628.845068</td>\n",
              "      <td>1985.775061</td>\n",
              "      <td>28</td>\n",
              "      <td>19</td>\n",
              "      <td>Android</td>\n",
              "    </tr>\n",
              "    <tr>\n",
              "      <th>1</th>\n",
              "      <td>1</td>\n",
              "      <td>retained</td>\n",
              "      <td>133</td>\n",
              "      <td>107</td>\n",
              "      <td>326.896596</td>\n",
              "      <td>1225</td>\n",
              "      <td>19</td>\n",
              "      <td>64</td>\n",
              "      <td>13715.920550</td>\n",
              "      <td>3160.472914</td>\n",
              "      <td>13</td>\n",
              "      <td>11</td>\n",
              "      <td>iPhone</td>\n",
              "    </tr>\n",
              "    <tr>\n",
              "      <th>2</th>\n",
              "      <td>2</td>\n",
              "      <td>retained</td>\n",
              "      <td>114</td>\n",
              "      <td>95</td>\n",
              "      <td>135.522926</td>\n",
              "      <td>2651</td>\n",
              "      <td>0</td>\n",
              "      <td>0</td>\n",
              "      <td>3059.148818</td>\n",
              "      <td>1610.735904</td>\n",
              "      <td>14</td>\n",
              "      <td>8</td>\n",
              "      <td>Android</td>\n",
              "    </tr>\n",
              "    <tr>\n",
              "      <th>3</th>\n",
              "      <td>3</td>\n",
              "      <td>retained</td>\n",
              "      <td>49</td>\n",
              "      <td>40</td>\n",
              "      <td>67.589221</td>\n",
              "      <td>15</td>\n",
              "      <td>322</td>\n",
              "      <td>7</td>\n",
              "      <td>913.591123</td>\n",
              "      <td>587.196542</td>\n",
              "      <td>7</td>\n",
              "      <td>3</td>\n",
              "      <td>iPhone</td>\n",
              "    </tr>\n",
              "    <tr>\n",
              "      <th>4</th>\n",
              "      <td>4</td>\n",
              "      <td>retained</td>\n",
              "      <td>84</td>\n",
              "      <td>68</td>\n",
              "      <td>168.247020</td>\n",
              "      <td>1562</td>\n",
              "      <td>166</td>\n",
              "      <td>5</td>\n",
              "      <td>3950.202008</td>\n",
              "      <td>1219.555924</td>\n",
              "      <td>27</td>\n",
              "      <td>18</td>\n",
              "      <td>Android</td>\n",
              "    </tr>\n",
              "  </tbody>\n",
              "</table>\n",
              "</div>"
            ],
            "text/plain": [
              "   ID     label  sessions  drives  total_sessions  n_days_after_onboarding  \\\n",
              "0   0  retained       283     226      296.748273                     2276   \n",
              "1   1  retained       133     107      326.896596                     1225   \n",
              "2   2  retained       114      95      135.522926                     2651   \n",
              "3   3  retained        49      40       67.589221                       15   \n",
              "4   4  retained        84      68      168.247020                     1562   \n",
              "\n",
              "   total_navigations_fav1  total_navigations_fav2  driven_km_drives  \\\n",
              "0                     208                       0       2628.845068   \n",
              "1                      19                      64      13715.920550   \n",
              "2                       0                       0       3059.148818   \n",
              "3                     322                       7        913.591123   \n",
              "4                     166                       5       3950.202008   \n",
              "\n",
              "   duration_minutes_drives  activity_days  driving_days   device  \n",
              "0              1985.775061             28            19  Android  \n",
              "1              3160.472914             13            11   iPhone  \n",
              "2              1610.735904             14             8  Android  \n",
              "3               587.196542              7             3   iPhone  \n",
              "4              1219.555924             27            18  Android  "
            ]
          },
          "execution_count": 4,
          "metadata": {},
          "output_type": "execute_result"
        }
      ],
      "source": [
        "# Copy the df0 dataframe\n",
        "df = df0.copy()\n",
        "df.head()"
      ]
    },
    {
      "cell_type": "markdown",
      "metadata": {
        "id": "fTgC9H_tt-G2"
      },
      "source": [
        "Call `info()` on the new dataframe so the existing columns can be easily referenced."
      ]
    },
    {
      "cell_type": "code",
      "execution_count": null,
      "metadata": {
        "id": "teUeCF-yf_6o",
        "outputId": "3591b830-342f-46a8-cbca-8cba45cd401e"
      },
      "outputs": [
        {
          "name": "stdout",
          "output_type": "stream",
          "text": [
            "<class 'pandas.core.frame.DataFrame'>\n",
            "RangeIndex: 14999 entries, 0 to 14998\n",
            "Data columns (total 13 columns):\n",
            " #   Column                   Non-Null Count  Dtype  \n",
            "---  ------                   --------------  -----  \n",
            " 0   ID                       14999 non-null  int64  \n",
            " 1   label                    14299 non-null  object \n",
            " 2   sessions                 14999 non-null  int64  \n",
            " 3   drives                   14999 non-null  int64  \n",
            " 4   total_sessions           14999 non-null  float64\n",
            " 5   n_days_after_onboarding  14999 non-null  int64  \n",
            " 6   total_navigations_fav1   14999 non-null  int64  \n",
            " 7   total_navigations_fav2   14999 non-null  int64  \n",
            " 8   driven_km_drives         14999 non-null  float64\n",
            " 9   duration_minutes_drives  14999 non-null  float64\n",
            " 10  activity_days            14999 non-null  int64  \n",
            " 11  driving_days             14999 non-null  int64  \n",
            " 12  device                   14999 non-null  object \n",
            "dtypes: float64(3), int64(8), object(2)\n",
            "memory usage: 1.5+ MB\n"
          ]
        }
      ],
      "source": [
        "df.info()"
      ]
    },
    {
      "cell_type": "markdown",
      "metadata": {
        "id": "BPtJEHjcuepR"
      },
      "source": [
        "#### **`km_per_driving_day`**\n",
        "\n",
        "1. Create a feature representing the mean number of kilometers driven on each driving day in the last month for each user. Add this feature as a column to `df`.\n",
        "\n",
        "2. Get descriptive statistics for this new feature\n",
        "\n"
      ]
    },
    {
      "cell_type": "code",
      "execution_count": null,
      "metadata": {
        "id": "vAB6cv6xfvZn",
        "outputId": "a3ce5efd-338d-4c56-9c51-c054498dbe08"
      },
      "outputs": [
        {
          "data": {
            "text/plain": [
              "count    1.499900e+04\n",
              "mean              inf\n",
              "std               NaN\n",
              "min      3.022063e+00\n",
              "25%      1.672804e+02\n",
              "50%      3.231459e+02\n",
              "75%      7.579257e+02\n",
              "max               inf\n",
              "Name: km_per_driving_day, dtype: float64"
            ]
          },
          "execution_count": 6,
          "metadata": {},
          "output_type": "execute_result"
        }
      ],
      "source": [
        "# 1. Create `km_per_driving_day` feature\n",
        "df['km_per_driving_day'] = df['driven_km_drives']/df['driving_days']\n",
        "\n",
        "\n",
        "# 2. Get descriptive stats\n",
        "df['km_per_driving_day'].describe()"
      ]
    },
    {
      "cell_type": "markdown",
      "metadata": {
        "id": "MSqM4oiyuuzw"
      },
      "source": [
        "Notice that some values are infinite. This is the result of there being values of zero in the `driving_days` column. Pandas imputes a value of infinity in the corresponding rows of the new column because division by zero is undefined.\n",
        "\n",
        "1. Convert these values from infinity to zero. You can use `np.inf` to refer to a value of infinity.\n",
        "\n",
        "2. Call `describe()` on the `km_per_driving_day` column to verify that it worked."
      ]
    },
    {
      "cell_type": "code",
      "execution_count": null,
      "metadata": {
        "id": "vv3owriWuuDQ",
        "outputId": "b25d8f95-9404-4a4c-f829-b3f41b8c484b"
      },
      "outputs": [
        {
          "data": {
            "text/plain": [
              "count    14999.000000\n",
              "mean       578.963113\n",
              "std       1030.094384\n",
              "min          0.000000\n",
              "25%        136.238895\n",
              "50%        272.889272\n",
              "75%        558.686918\n",
              "max      15420.234110\n",
              "Name: km_per_driving_day, dtype: float64"
            ]
          },
          "execution_count": 7,
          "metadata": {},
          "output_type": "execute_result"
        }
      ],
      "source": [
        "# 1. Convert infinite values to zero\n",
        "df.loc[df['km_per_driving_day']==np.inf, 'km_per_driving_day'] = 0\n",
        "\n",
        "# 2. Confirm that it worked\n",
        "df['km_per_driving_day'].describe()"
      ]
    },
    {
      "cell_type": "markdown",
      "metadata": {
        "id": "nZfNE37b-LlJ"
      },
      "source": [
        "#### **`percent_sessions_in_last_month`**\n",
        "\n",
        "1. Create a new column `percent_sessions_in_last_month` that represents the percentage of each user's total sessions that were logged in their last month of use.\n",
        "\n",
        "2. Get descriptive statistics for this new feature"
      ]
    },
    {
      "cell_type": "code",
      "execution_count": null,
      "metadata": {
        "id": "4mRefXCF-K_c",
        "outputId": "43eb2643-c73f-48e1-8487-a04d60d33eb7"
      },
      "outputs": [
        {
          "data": {
            "text/plain": [
              "count    14999.000000\n",
              "mean        44.925534\n",
              "std         28.691863\n",
              "min          0.000000\n",
              "25%         19.622145\n",
              "50%         42.309703\n",
              "75%         68.721626\n",
              "max        153.063707\n",
              "Name: percent_sessions_in_last_month, dtype: float64"
            ]
          },
          "execution_count": 8,
          "metadata": {},
          "output_type": "execute_result"
        }
      ],
      "source": [
        "# 1. Create `percent_sessions_in_last_month` feature\n",
        "df['percent_sessions_in_last_month'] = (df['sessions'] / df['total_sessions']) * 100\n",
        "\n",
        "# 1. Get descriptive stats\n",
        "df['percent_sessions_in_last_month'].describe()"
      ]
    },
    {
      "cell_type": "markdown",
      "metadata": {
        "id": "TjgkLrOf_OrE"
      },
      "source": [
        "#### **`professional_driver`**\n",
        "\n",
        "Create a new, binary feature called `professional_driver` that is a 1 for users who had 60 or more drives <u>**and**</u> drove on 15+ days in the last month.\n",
        "\n",
        "**Note:** The objective is to create a new feature that separates professional drivers from other drivers. In this scenario, domain knowledge and intuition are used to determine these deciding thresholds, but ultimately they are arbitrary."
      ]
    },
    {
      "cell_type": "markdown",
      "metadata": {
        "id": "L5UK5jR6U9t1"
      },
      "source": [
        "To create this column, use the [`np.where()`](https://numpy.org/doc/stable/reference/generated/numpy.where.html) function. This function accepts as arguments:\n",
        "1. A condition\n",
        "2. What to return when the condition is true\n",
        "3. What to return when the condition is false\n",
        "\n",
        "```\n",
        "Example:\n",
        "x = [1, 2, 3]\n",
        "x = np.where(x > 2, 100, 0)\n",
        "x\n",
        "array([  0,   0, 100])\n",
        "```"
      ]
    },
    {
      "cell_type": "code",
      "execution_count": null,
      "metadata": {
        "id": "dQdMgikKU-5T"
      },
      "outputs": [],
      "source": [
        "# Create `professional_driver` feature\n",
        "df['professional_driver'] = np.where((df['drives'] >= 15) & (df['driving_days'] >= 60), 1, 0 )"
      ]
    },
    {
      "cell_type": "markdown",
      "metadata": {
        "id": "J3bWzofHVIuC"
      },
      "source": [
        "#### **`total_sessions_per_day`**\n",
        "\n",
        "Now, create a new column that represents the mean number of sessions per day _since onboarding_."
      ]
    },
    {
      "cell_type": "code",
      "execution_count": null,
      "metadata": {
        "id": "bWXPMPHSVJQd"
      },
      "outputs": [],
      "source": [
        "# Create `total_sessions_per_day` feature\n",
        "df['total_sessions_per_day'] = df['total_sessions']/df['n_days_after_onboarding']"
      ]
    },
    {
      "cell_type": "markdown",
      "metadata": {
        "id": "8HLX7SwJVJlO"
      },
      "source": [
        "As with other features, get descriptive statistics for this new feature."
      ]
    },
    {
      "cell_type": "code",
      "execution_count": null,
      "metadata": {
        "id": "h1DFSMNSVKEg",
        "outputId": "29c0d095-1ebe-4a9e-a58a-97d5ca3c6ee4"
      },
      "outputs": [
        {
          "data": {
            "text/plain": [
              "count    14999.000000\n",
              "mean         0.338698\n",
              "std          1.314333\n",
              "min          0.000298\n",
              "25%          0.051037\n",
              "50%          0.100775\n",
              "75%          0.216269\n",
              "max         39.763874\n",
              "Name: total_sessions_per_day, dtype: float64"
            ]
          },
          "execution_count": 11,
          "metadata": {},
          "output_type": "execute_result"
        }
      ],
      "source": [
        "# Get descriptive stats\n",
        "df['total_sessions_per_day'].describe()"
      ]
    },
    {
      "cell_type": "markdown",
      "metadata": {
        "id": "c6sCAgOoVZM7"
      },
      "source": [
        "#### **`km_per_hour`**\n",
        "\n",
        "Create a column representing the mean kilometers per hour driven in the last month."
      ]
    },
    {
      "cell_type": "code",
      "execution_count": null,
      "metadata": {
        "id": "Zu142H3aVc3o",
        "outputId": "bc078ec3-753e-43a1-a6e1-cd491bace710"
      },
      "outputs": [
        {
          "data": {
            "text/plain": [
              "count    14999.000000\n",
              "mean       190.394608\n",
              "std        334.674026\n",
              "min         72.013095\n",
              "25%         90.706222\n",
              "50%        122.382022\n",
              "75%        193.130119\n",
              "max      23642.920871\n",
              "Name: km_per_hour, dtype: float64"
            ]
          },
          "execution_count": 12,
          "metadata": {},
          "output_type": "execute_result"
        }
      ],
      "source": [
        "# Create `km_per_hour` feature\n",
        "df['km_per_hour'] = df['driven_km_drives'] / (df['duration_minutes_drives']/60)\n",
        "df['km_per_hour'].describe()"
      ]
    },
    {
      "cell_type": "markdown",
      "metadata": {
        "id": "8d6N9jf8ViW-"
      },
      "source": [
        "#### **`km_per_drive`**\n",
        "\n",
        "Create a column representing the mean number of kilometers per drive made in the last month for each user. Then, print descriptive statistics for the feature."
      ]
    },
    {
      "cell_type": "code",
      "execution_count": null,
      "metadata": {
        "id": "v5R5-MteVlMB",
        "outputId": "647503c7-674d-49cc-9907-94dcda934a9e"
      },
      "outputs": [
        {
          "data": {
            "text/plain": [
              "count    1.499900e+04\n",
              "mean              inf\n",
              "std               NaN\n",
              "min      1.008775e+00\n",
              "25%      3.323065e+01\n",
              "50%      7.488006e+01\n",
              "75%      1.854667e+02\n",
              "max               inf\n",
              "Name: km_per_drive, dtype: float64"
            ]
          },
          "execution_count": 13,
          "metadata": {},
          "output_type": "execute_result"
        }
      ],
      "source": [
        "# Create `km_per_drive` feature\n",
        "df['km_per_drive'] = df['driven_km_drives'] / df['drives']\n",
        "df['km_per_drive'].describe()"
      ]
    },
    {
      "cell_type": "markdown",
      "metadata": {
        "id": "txY8qR1LVlq1"
      },
      "source": [
        "This feature has infinite values too. Convert the infinite values to zero, then confirm that it worked."
      ]
    },
    {
      "cell_type": "code",
      "execution_count": null,
      "metadata": {
        "id": "PZrHMuPuVmIt",
        "outputId": "a2ad02ff-3fed-4f0d-f9d5-30e7fdab683c"
      },
      "outputs": [
        {
          "data": {
            "text/plain": [
              "count    14999.000000\n",
              "mean       232.817946\n",
              "std        620.622351\n",
              "min          0.000000\n",
              "25%         32.424301\n",
              "50%         72.854343\n",
              "75%        179.347527\n",
              "max      15777.426560\n",
              "Name: km_per_drive, dtype: float64"
            ]
          },
          "execution_count": 14,
          "metadata": {},
          "output_type": "execute_result"
        }
      ],
      "source": [
        "# 1. Convert infinite values to zero\n",
        "df.loc[df['km_per_drive']==np.inf, 'km_per_drive'] = 0\n",
        "\n",
        "# 2. Confirm that it worked\n",
        "df['km_per_drive'].describe()"
      ]
    },
    {
      "cell_type": "markdown",
      "metadata": {
        "id": "O5Sxs6agVunA"
      },
      "source": [
        "#### **`percent_of_sessions_to_favorite`**\n",
        "\n",
        "Finally, create a new column that represents the percentage of total sessions that were used to navigate to one of the users' favorite places. Then, print descriptive statistics for the new column.\n",
        "\n",
        "This is a proxy representation for the percent of overall drives that are to a favorite place. Since total drives since onboarding are not contained in this dataset, total sessions must serve as a reasonable approximation.\n",
        "\n",
        "People whose drives to non-favorite places make up a higher percentage of their total drives might be less likely to churn, since they're making more drives to less familiar places."
      ]
    },
    {
      "cell_type": "code",
      "execution_count": null,
      "metadata": {
        "id": "vh22o46AVxd_",
        "outputId": "1c3f7a17-0187-44fc-f887-a4867238b13b"
      },
      "outputs": [
        {
          "data": {
            "text/plain": [
              "count    14999.000000\n",
              "mean         1.665439\n",
              "std          8.865666\n",
              "min          0.000000\n",
              "25%          0.203471\n",
              "50%          0.649818\n",
              "75%          1.638526\n",
              "max        777.563629\n",
              "Name: percent_of_sessions_to_favorite, dtype: float64"
            ]
          },
          "execution_count": 15,
          "metadata": {},
          "output_type": "execute_result"
        }
      ],
      "source": [
        "# Create `percent_of_sessions_to_favorite` feature\n",
        "df['percent_of_sessions_to_favorite'] = (df['total_navigations_fav1'] + df['total_navigations_fav2']) / df['total_sessions']\n",
        "\n",
        "# Get descriptive stats\n",
        "df['percent_of_sessions_to_favorite'].describe()"
      ]
    },
    {
      "cell_type": "markdown",
      "metadata": {
        "id": "IZO0mvHRWGmF"
      },
      "source": [
        "### **Task 3. Drop missing values**\n",
        "\n",
        "Because you know from previous EDA that there is no evidence of a non-random cause of the 700 missing values in the `label` column, and because these observations comprise less than 5% of the data, use the `dropna()` method to drop the rows that are missing this data."
      ]
    },
    {
      "cell_type": "code",
      "execution_count": null,
      "metadata": {
        "id": "2TdA6SnGWJY-",
        "outputId": "d38bd0b2-3b3d-4161-814e-9e8661bdf3b5"
      },
      "outputs": [
        {
          "data": {
            "text/html": [
              "<div>\n",
              "<style scoped>\n",
              "    .dataframe tbody tr th:only-of-type {\n",
              "        vertical-align: middle;\n",
              "    }\n",
              "\n",
              "    .dataframe tbody tr th {\n",
              "        vertical-align: top;\n",
              "    }\n",
              "\n",
              "    .dataframe thead th {\n",
              "        text-align: right;\n",
              "    }\n",
              "</style>\n",
              "<table border=\"1\" class=\"dataframe\">\n",
              "  <thead>\n",
              "    <tr style=\"text-align: right;\">\n",
              "      <th></th>\n",
              "      <th>ID</th>\n",
              "      <th>label</th>\n",
              "      <th>sessions</th>\n",
              "      <th>drives</th>\n",
              "      <th>total_sessions</th>\n",
              "      <th>n_days_after_onboarding</th>\n",
              "      <th>total_navigations_fav1</th>\n",
              "      <th>total_navigations_fav2</th>\n",
              "      <th>driven_km_drives</th>\n",
              "      <th>duration_minutes_drives</th>\n",
              "      <th>activity_days</th>\n",
              "      <th>driving_days</th>\n",
              "      <th>device</th>\n",
              "      <th>km_per_driving_day</th>\n",
              "      <th>percent_sessions_in_last_month</th>\n",
              "      <th>professional_driver</th>\n",
              "      <th>total_sessions_per_day</th>\n",
              "      <th>km_per_hour</th>\n",
              "      <th>km_per_drive</th>\n",
              "      <th>percent_of_sessions_to_favorite</th>\n",
              "    </tr>\n",
              "  </thead>\n",
              "  <tbody>\n",
              "    <tr>\n",
              "      <th>0</th>\n",
              "      <td>0</td>\n",
              "      <td>retained</td>\n",
              "      <td>283</td>\n",
              "      <td>226</td>\n",
              "      <td>296.748273</td>\n",
              "      <td>2276</td>\n",
              "      <td>208</td>\n",
              "      <td>0</td>\n",
              "      <td>2628.845068</td>\n",
              "      <td>1985.775061</td>\n",
              "      <td>28</td>\n",
              "      <td>19</td>\n",
              "      <td>Android</td>\n",
              "      <td>138.360267</td>\n",
              "      <td>95.367025</td>\n",
              "      <td>0</td>\n",
              "      <td>0.130381</td>\n",
              "      <td>79.430298</td>\n",
              "      <td>11.632058</td>\n",
              "      <td>0.700931</td>\n",
              "    </tr>\n",
              "    <tr>\n",
              "      <th>1</th>\n",
              "      <td>1</td>\n",
              "      <td>retained</td>\n",
              "      <td>133</td>\n",
              "      <td>107</td>\n",
              "      <td>326.896596</td>\n",
              "      <td>1225</td>\n",
              "      <td>19</td>\n",
              "      <td>64</td>\n",
              "      <td>13715.920550</td>\n",
              "      <td>3160.472914</td>\n",
              "      <td>13</td>\n",
              "      <td>11</td>\n",
              "      <td>iPhone</td>\n",
              "      <td>1246.901868</td>\n",
              "      <td>40.685648</td>\n",
              "      <td>0</td>\n",
              "      <td>0.266854</td>\n",
              "      <td>260.389902</td>\n",
              "      <td>128.186173</td>\n",
              "      <td>0.253903</td>\n",
              "    </tr>\n",
              "    <tr>\n",
              "      <th>2</th>\n",
              "      <td>2</td>\n",
              "      <td>retained</td>\n",
              "      <td>114</td>\n",
              "      <td>95</td>\n",
              "      <td>135.522926</td>\n",
              "      <td>2651</td>\n",
              "      <td>0</td>\n",
              "      <td>0</td>\n",
              "      <td>3059.148818</td>\n",
              "      <td>1610.735904</td>\n",
              "      <td>14</td>\n",
              "      <td>8</td>\n",
              "      <td>Android</td>\n",
              "      <td>382.393602</td>\n",
              "      <td>84.118609</td>\n",
              "      <td>0</td>\n",
              "      <td>0.051121</td>\n",
              "      <td>113.953460</td>\n",
              "      <td>32.201567</td>\n",
              "      <td>0.000000</td>\n",
              "    </tr>\n",
              "    <tr>\n",
              "      <th>3</th>\n",
              "      <td>3</td>\n",
              "      <td>retained</td>\n",
              "      <td>49</td>\n",
              "      <td>40</td>\n",
              "      <td>67.589221</td>\n",
              "      <td>15</td>\n",
              "      <td>322</td>\n",
              "      <td>7</td>\n",
              "      <td>913.591123</td>\n",
              "      <td>587.196542</td>\n",
              "      <td>7</td>\n",
              "      <td>3</td>\n",
              "      <td>iPhone</td>\n",
              "      <td>304.530374</td>\n",
              "      <td>72.496767</td>\n",
              "      <td>0</td>\n",
              "      <td>4.505948</td>\n",
              "      <td>93.351141</td>\n",
              "      <td>22.839778</td>\n",
              "      <td>4.867640</td>\n",
              "    </tr>\n",
              "    <tr>\n",
              "      <th>4</th>\n",
              "      <td>4</td>\n",
              "      <td>retained</td>\n",
              "      <td>84</td>\n",
              "      <td>68</td>\n",
              "      <td>168.247020</td>\n",
              "      <td>1562</td>\n",
              "      <td>166</td>\n",
              "      <td>5</td>\n",
              "      <td>3950.202008</td>\n",
              "      <td>1219.555924</td>\n",
              "      <td>27</td>\n",
              "      <td>18</td>\n",
              "      <td>Android</td>\n",
              "      <td>219.455667</td>\n",
              "      <td>49.926590</td>\n",
              "      <td>0</td>\n",
              "      <td>0.107713</td>\n",
              "      <td>194.342970</td>\n",
              "      <td>58.091206</td>\n",
              "      <td>1.016363</td>\n",
              "    </tr>\n",
              "  </tbody>\n",
              "</table>\n",
              "</div>"
            ],
            "text/plain": [
              "   ID     label  sessions  drives  total_sessions  n_days_after_onboarding  \\\n",
              "0   0  retained       283     226      296.748273                     2276   \n",
              "1   1  retained       133     107      326.896596                     1225   \n",
              "2   2  retained       114      95      135.522926                     2651   \n",
              "3   3  retained        49      40       67.589221                       15   \n",
              "4   4  retained        84      68      168.247020                     1562   \n",
              "\n",
              "   total_navigations_fav1  total_navigations_fav2  driven_km_drives  \\\n",
              "0                     208                       0       2628.845068   \n",
              "1                      19                      64      13715.920550   \n",
              "2                       0                       0       3059.148818   \n",
              "3                     322                       7        913.591123   \n",
              "4                     166                       5       3950.202008   \n",
              "\n",
              "   duration_minutes_drives  activity_days  driving_days   device  \\\n",
              "0              1985.775061             28            19  Android   \n",
              "1              3160.472914             13            11   iPhone   \n",
              "2              1610.735904             14             8  Android   \n",
              "3               587.196542              7             3   iPhone   \n",
              "4              1219.555924             27            18  Android   \n",
              "\n",
              "   km_per_driving_day  percent_sessions_in_last_month  professional_driver  \\\n",
              "0          138.360267                       95.367025                    0   \n",
              "1         1246.901868                       40.685648                    0   \n",
              "2          382.393602                       84.118609                    0   \n",
              "3          304.530374                       72.496767                    0   \n",
              "4          219.455667                       49.926590                    0   \n",
              "\n",
              "   total_sessions_per_day  km_per_hour  km_per_drive  \\\n",
              "0                0.130381    79.430298     11.632058   \n",
              "1                0.266854   260.389902    128.186173   \n",
              "2                0.051121   113.953460     32.201567   \n",
              "3                4.505948    93.351141     22.839778   \n",
              "4                0.107713   194.342970     58.091206   \n",
              "\n",
              "   percent_of_sessions_to_favorite  \n",
              "0                         0.700931  \n",
              "1                         0.253903  \n",
              "2                         0.000000  \n",
              "3                         4.867640  \n",
              "4                         1.016363  "
            ]
          },
          "execution_count": 16,
          "metadata": {},
          "output_type": "execute_result"
        }
      ],
      "source": [
        "# Drop rows with missing values\n",
        "df = df.dropna(subset=['label'])\n",
        "\n",
        "df.head()"
      ]
    },
    {
      "cell_type": "markdown",
      "metadata": {
        "id": "Du5kGt5CWJ4J"
      },
      "source": [
        "### **Task 4. Outliers**\n",
        "\n",
        "You know from previous EDA that many of these columns have outliers. However, tree-based models are resilient to outliers, so there is no need to make any imputations."
      ]
    },
    {
      "cell_type": "markdown",
      "metadata": {
        "id": "kxBYyXDSWPkw"
      },
      "source": [
        "### **Task 5. Variable encoding**"
      ]
    },
    {
      "cell_type": "markdown",
      "metadata": {
        "id": "57psLWIeaTk2"
      },
      "source": [
        "#### **Dummying features**\n",
        "\n",
        "In order to use `device` as an X variable, you will need to convert it to binary, since this variable is categorical.\n",
        "\n",
        "In cases where the data contains many categorical variables, you can use pandas built-in [`pd.get_dummies()`](https://pandas.pydata.org/docs/reference/api/pandas.get_dummies.html), or you can use scikit-learn's [`OneHotEncoder()`](https://scikit-learn.org/stable/modules/generated/sklearn.preprocessing.OneHotEncoder.html) function.\n",
        "\n",
        "**Note:** Each possible category of each feature will result in a feature for your model, which could lead to an inadequate ratio of features to observations and/or difficulty understanding your model's predictions.\n",
        "\n",
        "Because this dataset only has one remaining categorical feature (`device`), it's not necessary to use one of these special functions. You can just implement the transformation directly.\n",
        "\n",
        "Create a new, binary column called `device2` that encodes user devices as follows:\n",
        "\n",
        "* `Android` -> `0`\n",
        "* `iPhone` -> `1`"
      ]
    },
    {
      "cell_type": "code",
      "execution_count": null,
      "metadata": {
        "id": "fntUcR4-aUfH",
        "outputId": "ebe13ada-9a29-4349-e0ce-3a0d50bc6287"
      },
      "outputs": [
        {
          "name": "stdout",
          "output_type": "stream",
          "text": [
            "    device  device2\n",
            "0  Android        1\n",
            "1   iPhone        0\n",
            "2  Android        1\n",
            "3   iPhone        0\n",
            "4  Android        1\n"
          ]
        }
      ],
      "source": [
        "# Create new `device2` variable\n",
        "# Crear la variable binaria device2: 1 para Android, 0 para iPhone\n",
        "df['device2'] = np.where(df['device'] == 'iPhone', 0, 1)\n",
        "\n",
        "# Verificar los resultados\n",
        "print(df[['device', 'device2']].head())"
      ]
    },
    {
      "cell_type": "markdown",
      "metadata": {
        "id": "LgbEm7cOb6t8"
      },
      "source": [
        "#### **Target encoding**\n",
        "\n",
        "The target variable is also categorical, since a user is labeled as either \"churned\" or \"retained.\" Change the data type of the `label` column to be binary. This change is needed to train the models.\n",
        "\n",
        "Assign a `0` for all `retained` users.\n",
        "\n",
        "Assign a `1` for all `churned` users.\n",
        "\n",
        "Save this variable as `label2` so as not to overwrite the original `label` variable.\n",
        "\n",
        "**Note:** There are many ways to do this. Consider using `np.where()` as you did earlier in this notebook."
      ]
    },
    {
      "cell_type": "code",
      "execution_count": null,
      "metadata": {
        "id": "0jiVjplLb8W-",
        "outputId": "51d45901-71e5-4e01-e61a-6eb4a2826d19"
      },
      "outputs": [
        {
          "name": "stdout",
          "output_type": "stream",
          "text": [
            "      label  label2\n",
            "0  retained       0\n",
            "1  retained       0\n",
            "2  retained       0\n",
            "3  retained       0\n",
            "4  retained       0\n",
            "5  retained       0\n",
            "6  retained       0\n",
            "7  retained       0\n",
            "8  retained       0\n",
            "9   churned       1\n"
          ]
        }
      ],
      "source": [
        "# Create binary `label2` column\n",
        "df['label2'] = np.where(df['label'] == 'retained', 0, 1)\n",
        "print(df[['label', 'label2']].head(10))"
      ]
    },
    {
      "cell_type": "markdown",
      "metadata": {
        "id": "fD_zG59eaV2c"
      },
      "source": [
        "### **Task 6. Feature selection**\n",
        "\n",
        "Tree-based models can handle multicollinearity, so the only feature that can be cut is `ID`, since it doesn't contain any information relevant to churn.\n",
        "\n",
        "Note, however, that `device` won't be used simply because it's a copy of `device2`.\n",
        "\n",
        "Drop `ID` from the `df` dataframe."
      ]
    },
    {
      "cell_type": "code",
      "execution_count": null,
      "metadata": {
        "id": "kf3uGtUQaWSL",
        "outputId": "bbd3f2ba-70ca-4340-a845-aeca906abc8e"
      },
      "outputs": [
        {
          "data": {
            "text/html": [
              "<div>\n",
              "<style scoped>\n",
              "    .dataframe tbody tr th:only-of-type {\n",
              "        vertical-align: middle;\n",
              "    }\n",
              "\n",
              "    .dataframe tbody tr th {\n",
              "        vertical-align: top;\n",
              "    }\n",
              "\n",
              "    .dataframe thead th {\n",
              "        text-align: right;\n",
              "    }\n",
              "</style>\n",
              "<table border=\"1\" class=\"dataframe\">\n",
              "  <thead>\n",
              "    <tr style=\"text-align: right;\">\n",
              "      <th></th>\n",
              "      <th>ID</th>\n",
              "      <th>label</th>\n",
              "      <th>sessions</th>\n",
              "      <th>drives</th>\n",
              "      <th>total_sessions</th>\n",
              "      <th>n_days_after_onboarding</th>\n",
              "      <th>total_navigations_fav1</th>\n",
              "      <th>total_navigations_fav2</th>\n",
              "      <th>driven_km_drives</th>\n",
              "      <th>duration_minutes_drives</th>\n",
              "      <th>activity_days</th>\n",
              "      <th>driving_days</th>\n",
              "      <th>device</th>\n",
              "      <th>km_per_driving_day</th>\n",
              "      <th>percent_sessions_in_last_month</th>\n",
              "      <th>professional_driver</th>\n",
              "      <th>total_sessions_per_day</th>\n",
              "      <th>km_per_hour</th>\n",
              "      <th>km_per_drive</th>\n",
              "      <th>percent_of_sessions_to_favorite</th>\n",
              "      <th>device2</th>\n",
              "      <th>label2</th>\n",
              "    </tr>\n",
              "  </thead>\n",
              "  <tbody>\n",
              "    <tr>\n",
              "      <th>0</th>\n",
              "      <td>0</td>\n",
              "      <td>retained</td>\n",
              "      <td>283</td>\n",
              "      <td>226</td>\n",
              "      <td>296.748273</td>\n",
              "      <td>2276</td>\n",
              "      <td>208</td>\n",
              "      <td>0</td>\n",
              "      <td>2628.845068</td>\n",
              "      <td>1985.775061</td>\n",
              "      <td>28</td>\n",
              "      <td>19</td>\n",
              "      <td>Android</td>\n",
              "      <td>138.360267</td>\n",
              "      <td>95.367025</td>\n",
              "      <td>0</td>\n",
              "      <td>0.130381</td>\n",
              "      <td>79.430298</td>\n",
              "      <td>11.632058</td>\n",
              "      <td>0.700931</td>\n",
              "      <td>1</td>\n",
              "      <td>0</td>\n",
              "    </tr>\n",
              "    <tr>\n",
              "      <th>1</th>\n",
              "      <td>1</td>\n",
              "      <td>retained</td>\n",
              "      <td>133</td>\n",
              "      <td>107</td>\n",
              "      <td>326.896596</td>\n",
              "      <td>1225</td>\n",
              "      <td>19</td>\n",
              "      <td>64</td>\n",
              "      <td>13715.920550</td>\n",
              "      <td>3160.472914</td>\n",
              "      <td>13</td>\n",
              "      <td>11</td>\n",
              "      <td>iPhone</td>\n",
              "      <td>1246.901868</td>\n",
              "      <td>40.685648</td>\n",
              "      <td>0</td>\n",
              "      <td>0.266854</td>\n",
              "      <td>260.389902</td>\n",
              "      <td>128.186173</td>\n",
              "      <td>0.253903</td>\n",
              "      <td>0</td>\n",
              "      <td>0</td>\n",
              "    </tr>\n",
              "    <tr>\n",
              "      <th>2</th>\n",
              "      <td>2</td>\n",
              "      <td>retained</td>\n",
              "      <td>114</td>\n",
              "      <td>95</td>\n",
              "      <td>135.522926</td>\n",
              "      <td>2651</td>\n",
              "      <td>0</td>\n",
              "      <td>0</td>\n",
              "      <td>3059.148818</td>\n",
              "      <td>1610.735904</td>\n",
              "      <td>14</td>\n",
              "      <td>8</td>\n",
              "      <td>Android</td>\n",
              "      <td>382.393602</td>\n",
              "      <td>84.118609</td>\n",
              "      <td>0</td>\n",
              "      <td>0.051121</td>\n",
              "      <td>113.953460</td>\n",
              "      <td>32.201567</td>\n",
              "      <td>0.000000</td>\n",
              "      <td>1</td>\n",
              "      <td>0</td>\n",
              "    </tr>\n",
              "    <tr>\n",
              "      <th>3</th>\n",
              "      <td>3</td>\n",
              "      <td>retained</td>\n",
              "      <td>49</td>\n",
              "      <td>40</td>\n",
              "      <td>67.589221</td>\n",
              "      <td>15</td>\n",
              "      <td>322</td>\n",
              "      <td>7</td>\n",
              "      <td>913.591123</td>\n",
              "      <td>587.196542</td>\n",
              "      <td>7</td>\n",
              "      <td>3</td>\n",
              "      <td>iPhone</td>\n",
              "      <td>304.530374</td>\n",
              "      <td>72.496767</td>\n",
              "      <td>0</td>\n",
              "      <td>4.505948</td>\n",
              "      <td>93.351141</td>\n",
              "      <td>22.839778</td>\n",
              "      <td>4.867640</td>\n",
              "      <td>0</td>\n",
              "      <td>0</td>\n",
              "    </tr>\n",
              "    <tr>\n",
              "      <th>4</th>\n",
              "      <td>4</td>\n",
              "      <td>retained</td>\n",
              "      <td>84</td>\n",
              "      <td>68</td>\n",
              "      <td>168.247020</td>\n",
              "      <td>1562</td>\n",
              "      <td>166</td>\n",
              "      <td>5</td>\n",
              "      <td>3950.202008</td>\n",
              "      <td>1219.555924</td>\n",
              "      <td>27</td>\n",
              "      <td>18</td>\n",
              "      <td>Android</td>\n",
              "      <td>219.455667</td>\n",
              "      <td>49.926590</td>\n",
              "      <td>0</td>\n",
              "      <td>0.107713</td>\n",
              "      <td>194.342970</td>\n",
              "      <td>58.091206</td>\n",
              "      <td>1.016363</td>\n",
              "      <td>1</td>\n",
              "      <td>0</td>\n",
              "    </tr>\n",
              "  </tbody>\n",
              "</table>\n",
              "</div>"
            ],
            "text/plain": [
              "   ID     label  sessions  drives  total_sessions  n_days_after_onboarding  \\\n",
              "0   0  retained       283     226      296.748273                     2276   \n",
              "1   1  retained       133     107      326.896596                     1225   \n",
              "2   2  retained       114      95      135.522926                     2651   \n",
              "3   3  retained        49      40       67.589221                       15   \n",
              "4   4  retained        84      68      168.247020                     1562   \n",
              "\n",
              "   total_navigations_fav1  total_navigations_fav2  driven_km_drives  \\\n",
              "0                     208                       0       2628.845068   \n",
              "1                      19                      64      13715.920550   \n",
              "2                       0                       0       3059.148818   \n",
              "3                     322                       7        913.591123   \n",
              "4                     166                       5       3950.202008   \n",
              "\n",
              "   duration_minutes_drives  activity_days  driving_days   device  \\\n",
              "0              1985.775061             28            19  Android   \n",
              "1              3160.472914             13            11   iPhone   \n",
              "2              1610.735904             14             8  Android   \n",
              "3               587.196542              7             3   iPhone   \n",
              "4              1219.555924             27            18  Android   \n",
              "\n",
              "   km_per_driving_day  percent_sessions_in_last_month  professional_driver  \\\n",
              "0          138.360267                       95.367025                    0   \n",
              "1         1246.901868                       40.685648                    0   \n",
              "2          382.393602                       84.118609                    0   \n",
              "3          304.530374                       72.496767                    0   \n",
              "4          219.455667                       49.926590                    0   \n",
              "\n",
              "   total_sessions_per_day  km_per_hour  km_per_drive  \\\n",
              "0                0.130381    79.430298     11.632058   \n",
              "1                0.266854   260.389902    128.186173   \n",
              "2                0.051121   113.953460     32.201567   \n",
              "3                4.505948    93.351141     22.839778   \n",
              "4                0.107713   194.342970     58.091206   \n",
              "\n",
              "   percent_of_sessions_to_favorite  device2  label2  \n",
              "0                         0.700931        1       0  \n",
              "1                         0.253903        0       0  \n",
              "2                         0.000000        1       0  \n",
              "3                         4.867640        0       0  \n",
              "4                         1.016363        1       0  "
            ]
          },
          "execution_count": 19,
          "metadata": {},
          "output_type": "execute_result"
        }
      ],
      "source": [
        "# Drop `ID` column\n",
        "# Get class balance of 'label' col\n",
        "df.head()\n"
      ]
    },
    {
      "cell_type": "markdown",
      "metadata": {
        "id": "ajj50RCCaXrF"
      },
      "source": [
        "### **Task 7. Evaluation metric**\n",
        "\n",
        "Before modeling, you must decide on an evaluation metric. This will depend on the class balance of the target variable and the use case of the model.\n",
        "\n",
        "First, examine the class balance of your target variable."
      ]
    },
    {
      "cell_type": "code",
      "execution_count": null,
      "metadata": {
        "id": "3JkjEYByaYbr",
        "outputId": "4d75d94d-89aa-4041-b315-5308bcc5d9b2"
      },
      "outputs": [
        {
          "data": {
            "text/plain": [
              "label\n",
              "retained    0.822645\n",
              "churned     0.177355\n",
              "Name: proportion, dtype: float64"
            ]
          },
          "execution_count": 20,
          "metadata": {},
          "output_type": "execute_result"
        }
      ],
      "source": [
        "# Get class balance of 'label' col\n",
        "df['label'].value_counts(normalize=True)"
      ]
    },
    {
      "cell_type": "markdown",
      "metadata": {
        "id": "w9vnV1wtaZWJ"
      },
      "source": [
        "Approximately 18% of the users in this dataset churned. This is an unbalanced dataset, but not extremely so. It can be modeled without any class rebalancing.\n",
        "\n",
        "Now, consider which evaluation metric is best. Remember, accuracy might not be the best gauge of performance because a model can have high accuracy on an imbalanced dataset and still fail to predict the minority class.\n",
        "\n",
        "It was already determined that the risks involved in making a false positive prediction are minimal. No one stands to get hurt, lose money, or suffer any other significant consequence if they are predicted to churn. Therefore, select the model based on the recall score."
      ]
    },
    {
      "cell_type": "markdown",
      "metadata": {
        "id": "3n1eikFh8akS"
      },
      "source": [
        "<img src=\"images/Construct.png\" width=\"100\" height=\"100\" align=left>\n",
        "\n",
        "## **PACE: Construct**\n",
        "Consider the questions in your PACE Strategy Document to reflect on the Construct stage."
      ]
    },
    {
      "cell_type": "markdown",
      "metadata": {
        "id": "G5jzGjOS8iiv"
      },
      "source": [
        "### **Task 8. Modeling workflow and model selection process**\n",
        "\n",
        "The final modeling dataset contains 14,299 samples. This is towards the lower end of what might be considered sufficient to conduct a robust model selection process, but still doable.\n",
        "\n",
        "1. Split the data into train/validation/test sets (60/20/20)\n",
        "\n",
        "Note that, when deciding the split ratio and whether or not to use a validation set to select a champion model, consider both how many samples will be in each data partition, and how many examples of the minority class each would therefore contain. In this case, a 60/20/20 split would result in \\~2,860 samples in the validation set and the same number in the test set, of which \\~18%&mdash;or 515 samples&mdash;would represent users who churn.\n",
        "2. Fit models and tune hyperparameters on the training set\n",
        "3. Perform final model selection on the validation set\n",
        "4. Assess the champion model's performance on the test set\n",
        "\n",
        "![](https://raw.githubusercontent.com/adacert/tiktok/main/optimal_model_flow_numbered.svg)"
      ]
    },
    {
      "cell_type": "markdown",
      "metadata": {
        "id": "Nx41bVxX89Fe"
      },
      "source": [
        "### **Task 9. Split the data**\n",
        "\n",
        "Now you're ready to model. The only remaining step is to split the data into features/target variable and training/validation/test sets.\n",
        "\n",
        "1. Define a variable `X` that isolates the features. Remember not to use `device`.\n",
        "\n",
        "2. Define a variable `y` that isolates the target variable (`label2`).\n",
        "\n",
        "3. Split the data 80/20 into an interim training set and a test set. Don't forget to stratify the splits, and set the random state to 42.\n",
        "\n",
        "4. Split the interim training set 75/25 into a training set and a validation set, yielding a final ratio of 60/20/20 for training/validation/test sets. Again, don't forget to stratify the splits and set the random state."
      ]
    },
    {
      "cell_type": "code",
      "execution_count": null,
      "metadata": {
        "id": "qLbapbSWDUL-"
      },
      "outputs": [],
      "source": [
        "# 1. Isolate X variables\n",
        "X = df.drop(columns=['label','label2','device'])\n",
        "\n",
        "# 2. Isolate y variable\n",
        "y = df['label2']\n",
        "\n",
        "# 3. Split into train and test sets\n",
        "X_tr, X_test, y_tr, y_test = train_test_split(X, y, test_size=0.2,\n",
        "                                                    stratify=y, random_state=42)\n",
        "\n",
        "# 4. Split into train and validate sets\n",
        "X_train, X_val, y_train, y_val = train_test_split(X_tr, y_tr, stratify=y_tr,\n",
        "                                                  test_size=0.25, random_state=42)"
      ]
    },
    {
      "cell_type": "markdown",
      "metadata": {
        "id": "moLls6Lech47"
      },
      "source": [
        "Verify the number of samples in the partitioned data."
      ]
    },
    {
      "cell_type": "code",
      "execution_count": null,
      "metadata": {
        "id": "qWIog8v_ckIg",
        "outputId": "106e88c9-3d18-4473-8381-9d13e234775c"
      },
      "outputs": [
        {
          "name": "stdout",
          "output_type": "stream",
          "text": [
            "Número de muestras en X_train: 8579\n",
            "Número de muestras en X_val:   2860\n",
            "Número de muestras en X_test:  2860\n",
            "Total de muestras después de la división: 14299\n",
            "Total de muestras en el dataset original: 14299\n"
          ]
        }
      ],
      "source": [
        "# Verificar número de muestras en cada conjunto\n",
        "print(f\"Número de muestras en X_train: {X_train.shape[0]}\")\n",
        "print(f\"Número de muestras en X_val:   {X_val.shape[0]}\")\n",
        "print(f\"Número de muestras en X_test:  {X_test.shape[0]}\")\n",
        "\n",
        "# También podemos verificar el total original\n",
        "total = X_train.shape[0] + X_val.shape[0] + X_test.shape[0]\n",
        "print(f\"Total de muestras después de la división: {total}\")\n",
        "\n",
        "# Y comparar con el dataset original\n",
        "print(f\"Total de muestras en el dataset original: {df.shape[0]}\")\n"
      ]
    },
    {
      "cell_type": "markdown",
      "metadata": {
        "id": "0x-4vGANcki4"
      },
      "source": [
        "This aligns with expectations."
      ]
    },
    {
      "cell_type": "markdown",
      "metadata": {
        "id": "4vSaa0-xcu4Q"
      },
      "source": [
        "### **Task 10. Modeling**"
      ]
    },
    {
      "cell_type": "markdown",
      "metadata": {
        "id": "vynZs5het1b_"
      },
      "source": [
        "#### **Random forest**\n",
        "\n",
        "Begin with using `GridSearchCV` to tune a random forest model.\n",
        "\n",
        "1. Instantiate the random forest classifier `rf` and set the random state.\n",
        "\n",
        "2. Create a dictionary `cv_params` of any of the following hyperparameters and their corresponding values to tune. The more you tune, the better your model will fit the data, but the longer it will take.\n",
        " - `max_depth`\n",
        " - `max_features`\n",
        " - `max_samples`\n",
        " - `min_samples_leaf`\n",
        " - `min_samples_split`\n",
        " - `n_estimators`\n",
        "\n",
        "3. Define a list `scoring` of scoring metrics for GridSearch to capture (precision, recall, F1 score, and accuracy).\n",
        "\n",
        "4. Instantiate the `GridSearchCV` object `rf_cv`. Pass to it as arguments:\n",
        " - estimator=`rf`\n",
        " - param_grid=`cv_params`\n",
        " - scoring=`scoring`\n",
        " - cv: define the number of cross-validation folds you want (`cv=_`)\n",
        " - refit: indicate which evaluation metric you want to use to select the model (`refit=_`)\n",
        "\n",
        " `refit` should be set to `'recall'`.<font/>\n"
      ]
    },
    {
      "cell_type": "markdown",
      "metadata": {
        "id": "vvpX9RDFc2MD"
      },
      "source": [
        "**Note:** If your model fitting takes too long, try reducing the number of options to search over in the grid search."
      ]
    },
    {
      "cell_type": "code",
      "execution_count": null,
      "metadata": {
        "id": "Vj5rJWOv5O3d"
      },
      "outputs": [],
      "source": [
        "# 1. Instantiate the random forest classifier\n",
        "rf = RandomForestClassifier(random_state=42)\n",
        "\n",
        "# 2. Create a dictionary of hyperparameters to tune\n",
        "cv_params = {'max_depth': [None],\n",
        "             'max_features': [1.0],\n",
        "             'max_samples': [1.0],\n",
        "             'min_samples_leaf': [2],\n",
        "             'min_samples_split': [2],\n",
        "             'n_estimators': [300],\n",
        "             }\n",
        "\n",
        "# 3. Define a list of scoring metrics to capture\n",
        "scoring = {\n",
        "    'precision': make_scorer(precision_score),\n",
        "    'recall': make_scorer(recall_score),\n",
        "    'f1': make_scorer(f1_score),\n",
        "    'accuracy': make_scorer(accuracy_score)\n",
        "}\n",
        "\n",
        "# 4. Instantiate the GridSearchCV object\n",
        "rf_cv = GridSearchCV(\n",
        "    estimator=rf,\n",
        "    param_grid=cv_params,\n",
        "    scoring=scoring,\n",
        "    refit='recall',       # El modelo final se selecciona con base en la métrica recall\n",
        "    cv=5,                 # Número de particiones para validación cruzada\n",
        "    n_jobs=-1,            # Usar todos los núcleos de CPU disponibles\n",
        "    verbose=2             # Mostrar el progreso en consola\n",
        ")"
      ]
    },
    {
      "cell_type": "markdown",
      "metadata": {
        "id": "Wv_WvRA1RqTl"
      },
      "source": [
        "Now fit the model to the training data."
      ]
    },
    {
      "cell_type": "code",
      "execution_count": null,
      "metadata": {
        "id": "OXuBiTGi5ZHn",
        "outputId": "d83e341c-b2b1-4e4e-9c94-f812c21e8c40"
      },
      "outputs": [
        {
          "name": "stdout",
          "output_type": "stream",
          "text": [
            "Fitting 5 folds for each of 1 candidates, totalling 5 fits\n"
          ]
        },
        {
          "data": {
            "text/html": [
              "<style>#sk-container-id-1 {color: black;}#sk-container-id-1 pre{padding: 0;}#sk-container-id-1 div.sk-toggleable {background-color: white;}#sk-container-id-1 label.sk-toggleable__label {cursor: pointer;display: block;width: 100%;margin-bottom: 0;padding: 0.3em;box-sizing: border-box;text-align: center;}#sk-container-id-1 label.sk-toggleable__label-arrow:before {content: \"▸\";float: left;margin-right: 0.25em;color: #696969;}#sk-container-id-1 label.sk-toggleable__label-arrow:hover:before {color: black;}#sk-container-id-1 div.sk-estimator:hover label.sk-toggleable__label-arrow:before {color: black;}#sk-container-id-1 div.sk-toggleable__content {max-height: 0;max-width: 0;overflow: hidden;text-align: left;background-color: #f0f8ff;}#sk-container-id-1 div.sk-toggleable__content pre {margin: 0.2em;color: black;border-radius: 0.25em;background-color: #f0f8ff;}#sk-container-id-1 input.sk-toggleable__control:checked~div.sk-toggleable__content {max-height: 200px;max-width: 100%;overflow: auto;}#sk-container-id-1 input.sk-toggleable__control:checked~label.sk-toggleable__label-arrow:before {content: \"▾\";}#sk-container-id-1 div.sk-estimator input.sk-toggleable__control:checked~label.sk-toggleable__label {background-color: #d4ebff;}#sk-container-id-1 div.sk-label input.sk-toggleable__control:checked~label.sk-toggleable__label {background-color: #d4ebff;}#sk-container-id-1 input.sk-hidden--visually {border: 0;clip: rect(1px 1px 1px 1px);clip: rect(1px, 1px, 1px, 1px);height: 1px;margin: -1px;overflow: hidden;padding: 0;position: absolute;width: 1px;}#sk-container-id-1 div.sk-estimator {font-family: monospace;background-color: #f0f8ff;border: 1px dotted black;border-radius: 0.25em;box-sizing: border-box;margin-bottom: 0.5em;}#sk-container-id-1 div.sk-estimator:hover {background-color: #d4ebff;}#sk-container-id-1 div.sk-parallel-item::after {content: \"\";width: 100%;border-bottom: 1px solid gray;flex-grow: 1;}#sk-container-id-1 div.sk-label:hover label.sk-toggleable__label {background-color: #d4ebff;}#sk-container-id-1 div.sk-serial::before {content: \"\";position: absolute;border-left: 1px solid gray;box-sizing: border-box;top: 0;bottom: 0;left: 50%;z-index: 0;}#sk-container-id-1 div.sk-serial {display: flex;flex-direction: column;align-items: center;background-color: white;padding-right: 0.2em;padding-left: 0.2em;position: relative;}#sk-container-id-1 div.sk-item {position: relative;z-index: 1;}#sk-container-id-1 div.sk-parallel {display: flex;align-items: stretch;justify-content: center;background-color: white;position: relative;}#sk-container-id-1 div.sk-item::before, #sk-container-id-1 div.sk-parallel-item::before {content: \"\";position: absolute;border-left: 1px solid gray;box-sizing: border-box;top: 0;bottom: 0;left: 50%;z-index: -1;}#sk-container-id-1 div.sk-parallel-item {display: flex;flex-direction: column;z-index: 1;position: relative;background-color: white;}#sk-container-id-1 div.sk-parallel-item:first-child::after {align-self: flex-end;width: 50%;}#sk-container-id-1 div.sk-parallel-item:last-child::after {align-self: flex-start;width: 50%;}#sk-container-id-1 div.sk-parallel-item:only-child::after {width: 0;}#sk-container-id-1 div.sk-dashed-wrapped {border: 1px dashed gray;margin: 0 0.4em 0.5em 0.4em;box-sizing: border-box;padding-bottom: 0.4em;background-color: white;}#sk-container-id-1 div.sk-label label {font-family: monospace;font-weight: bold;display: inline-block;line-height: 1.2em;}#sk-container-id-1 div.sk-label-container {text-align: center;}#sk-container-id-1 div.sk-container {/* jupyter's `normalize.less` sets `[hidden] { display: none; }` but bootstrap.min.css set `[hidden] { display: none !important; }` so we also need the `!important` here to be able to override the default hidden behavior on the sphinx rendered scikit-learn.org. See: https://github.com/scikit-learn/scikit-learn/issues/21755 */display: inline-block !important;position: relative;}#sk-container-id-1 div.sk-text-repr-fallback {display: none;}</style><div id=\"sk-container-id-1\" class=\"sk-top-container\"><div class=\"sk-text-repr-fallback\"><pre>GridSearchCV(cv=5, estimator=RandomForestClassifier(random_state=42), n_jobs=-1,\n",
              "             param_grid={&#x27;max_depth&#x27;: [None], &#x27;max_features&#x27;: [1.0],\n",
              "                         &#x27;max_samples&#x27;: [1.0], &#x27;min_samples_leaf&#x27;: [2],\n",
              "                         &#x27;min_samples_split&#x27;: [2], &#x27;n_estimators&#x27;: [300]},\n",
              "             refit=&#x27;recall&#x27;,\n",
              "             scoring={&#x27;accuracy&#x27;: make_scorer(accuracy_score),\n",
              "                      &#x27;f1&#x27;: make_scorer(f1_score),\n",
              "                      &#x27;precision&#x27;: make_scorer(precision_score),\n",
              "                      &#x27;recall&#x27;: make_scorer(recall_score)},\n",
              "             verbose=2)</pre><b>In a Jupyter environment, please rerun this cell to show the HTML representation or trust the notebook. <br />On GitHub, the HTML representation is unable to render, please try loading this page with nbviewer.org.</b></div><div class=\"sk-container\" hidden><div class=\"sk-item sk-dashed-wrapped\"><div class=\"sk-label-container\"><div class=\"sk-label sk-toggleable\"><input class=\"sk-toggleable__control sk-hidden--visually\" id=\"sk-estimator-id-1\" type=\"checkbox\" ><label for=\"sk-estimator-id-1\" class=\"sk-toggleable__label sk-toggleable__label-arrow\">GridSearchCV</label><div class=\"sk-toggleable__content\"><pre>GridSearchCV(cv=5, estimator=RandomForestClassifier(random_state=42), n_jobs=-1,\n",
              "             param_grid={&#x27;max_depth&#x27;: [None], &#x27;max_features&#x27;: [1.0],\n",
              "                         &#x27;max_samples&#x27;: [1.0], &#x27;min_samples_leaf&#x27;: [2],\n",
              "                         &#x27;min_samples_split&#x27;: [2], &#x27;n_estimators&#x27;: [300]},\n",
              "             refit=&#x27;recall&#x27;,\n",
              "             scoring={&#x27;accuracy&#x27;: make_scorer(accuracy_score),\n",
              "                      &#x27;f1&#x27;: make_scorer(f1_score),\n",
              "                      &#x27;precision&#x27;: make_scorer(precision_score),\n",
              "                      &#x27;recall&#x27;: make_scorer(recall_score)},\n",
              "             verbose=2)</pre></div></div></div><div class=\"sk-parallel\"><div class=\"sk-parallel-item\"><div class=\"sk-item\"><div class=\"sk-label-container\"><div class=\"sk-label sk-toggleable\"><input class=\"sk-toggleable__control sk-hidden--visually\" id=\"sk-estimator-id-2\" type=\"checkbox\" ><label for=\"sk-estimator-id-2\" class=\"sk-toggleable__label sk-toggleable__label-arrow\">estimator: RandomForestClassifier</label><div class=\"sk-toggleable__content\"><pre>RandomForestClassifier(random_state=42)</pre></div></div></div><div class=\"sk-serial\"><div class=\"sk-item\"><div class=\"sk-estimator sk-toggleable\"><input class=\"sk-toggleable__control sk-hidden--visually\" id=\"sk-estimator-id-3\" type=\"checkbox\" ><label for=\"sk-estimator-id-3\" class=\"sk-toggleable__label sk-toggleable__label-arrow\">RandomForestClassifier</label><div class=\"sk-toggleable__content\"><pre>RandomForestClassifier(random_state=42)</pre></div></div></div></div></div></div></div></div></div></div>"
            ],
            "text/plain": [
              "GridSearchCV(cv=5, estimator=RandomForestClassifier(random_state=42), n_jobs=-1,\n",
              "             param_grid={'max_depth': [None], 'max_features': [1.0],\n",
              "                         'max_samples': [1.0], 'min_samples_leaf': [2],\n",
              "                         'min_samples_split': [2], 'n_estimators': [300]},\n",
              "             refit='recall',\n",
              "             scoring={'accuracy': make_scorer(accuracy_score),\n",
              "                      'f1': make_scorer(f1_score),\n",
              "                      'precision': make_scorer(precision_score),\n",
              "                      'recall': make_scorer(recall_score)},\n",
              "             verbose=2)"
            ]
          },
          "execution_count": 24,
          "metadata": {},
          "output_type": "execute_result"
        }
      ],
      "source": [
        "rf_cv.fit(X_train, y_train)"
      ]
    },
    {
      "cell_type": "markdown",
      "metadata": {
        "id": "5wHi_YJduQOH"
      },
      "source": [
        "Examine the best average score across all the validation folds."
      ]
    },
    {
      "cell_type": "code",
      "execution_count": null,
      "metadata": {
        "id": "YtAgrH0zy4CE",
        "outputId": "d331efd8-965e-4a5c-8283-94b20296a7d5"
      },
      "outputs": [
        {
          "name": "stdout",
          "output_type": "stream",
          "text": [
            "Mejor puntuación promedio de recall en validación cruzada:\n",
            "0.12283002588438308\n"
          ]
        }
      ],
      "source": [
        "# Examine best score\n",
        "print(\"Mejor puntuación promedio de recall en validación cruzada:\")\n",
        "print(rf_cv.best_score_)"
      ]
    },
    {
      "cell_type": "markdown",
      "metadata": {
        "id": "heGb51fHh3E5"
      },
      "source": [
        "Examine the best combination of hyperparameters."
      ]
    },
    {
      "cell_type": "code",
      "execution_count": null,
      "metadata": {
        "id": "kazNtYG4fQOI",
        "outputId": "bbea989f-0c2f-43e9-b702-9242d8e2aac1"
      },
      "outputs": [
        {
          "name": "stdout",
          "output_type": "stream",
          "text": [
            "Mejor combinación de hiperparámetros:\n"
          ]
        },
        {
          "data": {
            "text/plain": [
              "{'max_depth': None,\n",
              " 'max_features': 1.0,\n",
              " 'max_samples': 1.0,\n",
              " 'min_samples_leaf': 2,\n",
              " 'min_samples_split': 2,\n",
              " 'n_estimators': 300}"
            ]
          },
          "execution_count": 26,
          "metadata": {},
          "output_type": "execute_result"
        }
      ],
      "source": [
        "# Examine best hyperparameter combo\n",
        "print(\"Mejor combinación de hiperparámetros:\")\n",
        "rf_cv.best_params_"
      ]
    },
    {
      "cell_type": "markdown",
      "metadata": {
        "id": "qZZnem5yiAau"
      },
      "source": [
        "Use the `make_results()` function to output all of the scores of your model. Note that the function accepts three arguments.\n",
        "\n",
        "This function is provided for you, but if you'd like to challenge yourself, try writing your own function!"
      ]
    },
    {
      "cell_type": "markdown",
      "metadata": {
        "id": "GeW48TS742jN"
      },
      "source": [
        "<details>\n",
        "  <summary><h5>HINT</h5></summary>\n",
        "\n",
        "To learn more about how this function accesses the cross-validation results, refer to the [`GridSearchCV` scikit-learn documentation](https://scikit-learn.org/stable/modules/generated/sklearn.model_selection.GridSearchCV.html?highlight=gridsearchcv#sklearn.model_selection.GridSearchCV) for the `cv_results_` attribute.\n",
        "\n",
        "</details>"
      ]
    },
    {
      "cell_type": "code",
      "execution_count": null,
      "metadata": {
        "id": "u-UodWEOedxz"
      },
      "outputs": [],
      "source": [
        "def make_results(model_name:str, model_object, metric:str):\n",
        "    '''\n",
        "    Arguments:\n",
        "        model_name (string): what you want the model to be called in the output table\n",
        "        model_object: a fit GridSearchCV object\n",
        "        metric (string): precision, recall, f1, or accuracy\n",
        "\n",
        "    Returns a pandas df with the F1, recall, precision, and accuracy scores\n",
        "    for the model with the best mean 'metric' score across all validation folds.\n",
        "    '''\n",
        "\n",
        "    # Create dictionary that maps input metric to actual metric name in GridSearchCV\n",
        "    metric_dict = {'precision': 'mean_test_precision',\n",
        "                   'recall': 'mean_test_recall',\n",
        "                   'f1': 'mean_test_f1',\n",
        "                   'accuracy': 'mean_test_accuracy',\n",
        "                   }\n",
        "\n",
        "    # Get all the results from the CV and put them in a df\n",
        "    cv_results = pd.DataFrame(model_object.cv_results_)\n",
        "\n",
        "    # Isolate the row of the df with the max(metric) score\n",
        "    best_estimator_results = cv_results.iloc[cv_results[metric_dict[metric]].idxmax(), :]\n",
        "\n",
        "    # Extract accuracy, precision, recall, and f1 score from that row\n",
        "    f1 = best_estimator_results.mean_test_f1\n",
        "    recall = best_estimator_results.mean_test_recall\n",
        "    precision = best_estimator_results.mean_test_precision\n",
        "    accuracy = best_estimator_results.mean_test_accuracy\n",
        "\n",
        "    # Create table of results\n",
        "    table = pd.DataFrame({'model': [model_name],\n",
        "                          'precision': [precision],\n",
        "                          'recall': [recall],\n",
        "                          'F1': [f1],\n",
        "                          'accuracy': [accuracy],\n",
        "                          },\n",
        "                         )\n",
        "\n",
        "    return table"
      ]
    },
    {
      "cell_type": "markdown",
      "metadata": {
        "id": "diQezudIfzHn"
      },
      "source": [
        "Pass the `GridSearch` object to the `make_results()` function."
      ]
    },
    {
      "cell_type": "code",
      "execution_count": null,
      "metadata": {
        "id": "qAYb2QigiT_h",
        "outputId": "24e368b5-5de9-47a9-b470-86f1de80d44b"
      },
      "outputs": [
        {
          "data": {
            "text/html": [
              "<div>\n",
              "<style scoped>\n",
              "    .dataframe tbody tr th:only-of-type {\n",
              "        vertical-align: middle;\n",
              "    }\n",
              "\n",
              "    .dataframe tbody tr th {\n",
              "        vertical-align: top;\n",
              "    }\n",
              "\n",
              "    .dataframe thead th {\n",
              "        text-align: right;\n",
              "    }\n",
              "</style>\n",
              "<table border=\"1\" class=\"dataframe\">\n",
              "  <thead>\n",
              "    <tr style=\"text-align: right;\">\n",
              "      <th></th>\n",
              "      <th>model</th>\n",
              "      <th>precision</th>\n",
              "      <th>recall</th>\n",
              "      <th>F1</th>\n",
              "      <th>accuracy</th>\n",
              "    </tr>\n",
              "  </thead>\n",
              "  <tbody>\n",
              "    <tr>\n",
              "      <th>0</th>\n",
              "      <td>RF cv</td>\n",
              "      <td>0.472173</td>\n",
              "      <td>0.12283</td>\n",
              "      <td>0.194114</td>\n",
              "      <td>0.819792</td>\n",
              "    </tr>\n",
              "  </tbody>\n",
              "</table>\n",
              "</div>"
            ],
            "text/plain": [
              "   model  precision   recall        F1  accuracy\n",
              "0  RF cv   0.472173  0.12283  0.194114  0.819792"
            ]
          },
          "execution_count": 28,
          "metadata": {},
          "output_type": "execute_result"
        }
      ],
      "source": [
        "results = make_results('RF cv', rf_cv, 'recall')\n",
        "results"
      ]
    },
    {
      "cell_type": "markdown",
      "metadata": {
        "id": "SB-yhW9uu7dO"
      },
      "source": [
        "Asside from the accuracy, the scores aren't that good. However, recall that when you built the logistic regression model in the last course the recall was \\~0.09, which means that this model has 33% better recall and about the same accuracy, and it was trained on less data.\n",
        "\n",
        "If you want, feel free to try retuning your hyperparameters to try to get a better score. You might be able to marginally improve the model."
      ]
    },
    {
      "cell_type": "markdown",
      "metadata": {
        "id": "DOlktJ6l4Tgt"
      },
      "source": [
        "#### **XGBoost**\n",
        "\n",
        " Try to improve your scores using an XGBoost model.\n",
        "\n",
        "1. Instantiate the XGBoost classifier `xgb` and set `objective='binary:logistic'`. Also set the random state.\n",
        "\n",
        "2. Create a dictionary `cv_params` of the following hyperparameters and their corresponding values to tune:\n",
        " - `max_depth`\n",
        " - `min_child_weight`\n",
        " - `learning_rate`\n",
        " - `n_estimators`\n",
        "\n",
        "3. Define a list `scoring` of scoring metrics for grid search to capture (precision, recall, F1 score, and accuracy).\n",
        "\n",
        "4. Instantiate the `GridSearchCV` object `xgb_cv`. Pass to it as arguments:\n",
        " - estimator=`xgb`\n",
        " - param_grid=`cv_params`\n",
        " - scoring=`scoring`\n",
        " - cv: define the number of cross-validation folds you want (`cv=_`)\n",
        " - refit: indicate which evaluation metric you want to use to select the model (`refit='recall'`)"
      ]
    },
    {
      "cell_type": "code",
      "execution_count": null,
      "metadata": {
        "id": "0ciO48nhiTqO"
      },
      "outputs": [],
      "source": [
        "# 1. Instantiate the XGBoost classifier\n",
        "xgb = XGBClassifier(objective='binary:logistic', random_state=0)\n",
        "\n",
        "# 2. Create a dictionary of hyperparameters to tune\n",
        "cv_params = {'max_depth': [6, 12],\n",
        "             'min_child_weight': [3, 5],\n",
        "             'learning_rate': [0.01, 0.1],\n",
        "             'n_estimators': [300]\n",
        "             }\n",
        "\n",
        "# 3. Define a list of scoring metrics to capture\n",
        "scoring = ['accuracy', 'precision', 'recall', 'f1']\n",
        "\n",
        "# 4. Instantiate the GridSearchCV object\n",
        "xgb_cv = GridSearchCV(xgb,\n",
        "                      cv_params,\n",
        "                      scoring = scoring,\n",
        "                      cv = 4,\n",
        "                      refit = 'f1'\n",
        "                     )"
      ]
    },
    {
      "cell_type": "markdown",
      "metadata": {
        "id": "Y78-hQF9680x"
      },
      "source": [
        "Now fit the model to the `X_train` and `y_train` data.\n",
        "\n",
        "Note this cell might take several minutes to run."
      ]
    },
    {
      "cell_type": "code",
      "execution_count": null,
      "metadata": {
        "id": "dYCWs_HX6804",
        "outputId": "f2715393-872d-487b-89df-df93960e3314"
      },
      "outputs": [
        {
          "data": {
            "text/html": [
              "<style>#sk-container-id-2 {color: black;}#sk-container-id-2 pre{padding: 0;}#sk-container-id-2 div.sk-toggleable {background-color: white;}#sk-container-id-2 label.sk-toggleable__label {cursor: pointer;display: block;width: 100%;margin-bottom: 0;padding: 0.3em;box-sizing: border-box;text-align: center;}#sk-container-id-2 label.sk-toggleable__label-arrow:before {content: \"▸\";float: left;margin-right: 0.25em;color: #696969;}#sk-container-id-2 label.sk-toggleable__label-arrow:hover:before {color: black;}#sk-container-id-2 div.sk-estimator:hover label.sk-toggleable__label-arrow:before {color: black;}#sk-container-id-2 div.sk-toggleable__content {max-height: 0;max-width: 0;overflow: hidden;text-align: left;background-color: #f0f8ff;}#sk-container-id-2 div.sk-toggleable__content pre {margin: 0.2em;color: black;border-radius: 0.25em;background-color: #f0f8ff;}#sk-container-id-2 input.sk-toggleable__control:checked~div.sk-toggleable__content {max-height: 200px;max-width: 100%;overflow: auto;}#sk-container-id-2 input.sk-toggleable__control:checked~label.sk-toggleable__label-arrow:before {content: \"▾\";}#sk-container-id-2 div.sk-estimator input.sk-toggleable__control:checked~label.sk-toggleable__label {background-color: #d4ebff;}#sk-container-id-2 div.sk-label input.sk-toggleable__control:checked~label.sk-toggleable__label {background-color: #d4ebff;}#sk-container-id-2 input.sk-hidden--visually {border: 0;clip: rect(1px 1px 1px 1px);clip: rect(1px, 1px, 1px, 1px);height: 1px;margin: -1px;overflow: hidden;padding: 0;position: absolute;width: 1px;}#sk-container-id-2 div.sk-estimator {font-family: monospace;background-color: #f0f8ff;border: 1px dotted black;border-radius: 0.25em;box-sizing: border-box;margin-bottom: 0.5em;}#sk-container-id-2 div.sk-estimator:hover {background-color: #d4ebff;}#sk-container-id-2 div.sk-parallel-item::after {content: \"\";width: 100%;border-bottom: 1px solid gray;flex-grow: 1;}#sk-container-id-2 div.sk-label:hover label.sk-toggleable__label {background-color: #d4ebff;}#sk-container-id-2 div.sk-serial::before {content: \"\";position: absolute;border-left: 1px solid gray;box-sizing: border-box;top: 0;bottom: 0;left: 50%;z-index: 0;}#sk-container-id-2 div.sk-serial {display: flex;flex-direction: column;align-items: center;background-color: white;padding-right: 0.2em;padding-left: 0.2em;position: relative;}#sk-container-id-2 div.sk-item {position: relative;z-index: 1;}#sk-container-id-2 div.sk-parallel {display: flex;align-items: stretch;justify-content: center;background-color: white;position: relative;}#sk-container-id-2 div.sk-item::before, #sk-container-id-2 div.sk-parallel-item::before {content: \"\";position: absolute;border-left: 1px solid gray;box-sizing: border-box;top: 0;bottom: 0;left: 50%;z-index: -1;}#sk-container-id-2 div.sk-parallel-item {display: flex;flex-direction: column;z-index: 1;position: relative;background-color: white;}#sk-container-id-2 div.sk-parallel-item:first-child::after {align-self: flex-end;width: 50%;}#sk-container-id-2 div.sk-parallel-item:last-child::after {align-self: flex-start;width: 50%;}#sk-container-id-2 div.sk-parallel-item:only-child::after {width: 0;}#sk-container-id-2 div.sk-dashed-wrapped {border: 1px dashed gray;margin: 0 0.4em 0.5em 0.4em;box-sizing: border-box;padding-bottom: 0.4em;background-color: white;}#sk-container-id-2 div.sk-label label {font-family: monospace;font-weight: bold;display: inline-block;line-height: 1.2em;}#sk-container-id-2 div.sk-label-container {text-align: center;}#sk-container-id-2 div.sk-container {/* jupyter's `normalize.less` sets `[hidden] { display: none; }` but bootstrap.min.css set `[hidden] { display: none !important; }` so we also need the `!important` here to be able to override the default hidden behavior on the sphinx rendered scikit-learn.org. See: https://github.com/scikit-learn/scikit-learn/issues/21755 */display: inline-block !important;position: relative;}#sk-container-id-2 div.sk-text-repr-fallback {display: none;}</style><div id=\"sk-container-id-2\" class=\"sk-top-container\"><div class=\"sk-text-repr-fallback\"><pre>GridSearchCV(cv=4,\n",
              "             estimator=XGBClassifier(base_score=None, booster=None,\n",
              "                                     callbacks=None, colsample_bylevel=None,\n",
              "                                     colsample_bynode=None,\n",
              "                                     colsample_bytree=None, device=None,\n",
              "                                     early_stopping_rounds=None,\n",
              "                                     enable_categorical=False, eval_metric=None,\n",
              "                                     feature_types=None, gamma=None,\n",
              "                                     grow_policy=None, importance_type=None,\n",
              "                                     interaction_constraints=None,\n",
              "                                     learning_rate=None,...\n",
              "                                     max_delta_step=None, max_depth=None,\n",
              "                                     max_leaves=None, min_child_weight=None,\n",
              "                                     missing=nan, monotone_constraints=None,\n",
              "                                     multi_strategy=None, n_estimators=None,\n",
              "                                     n_jobs=None, num_parallel_tree=None,\n",
              "                                     random_state=0, ...),\n",
              "             param_grid={&#x27;learning_rate&#x27;: [0.01, 0.1], &#x27;max_depth&#x27;: [6, 12],\n",
              "                         &#x27;min_child_weight&#x27;: [3, 5], &#x27;n_estimators&#x27;: [300]},\n",
              "             refit=&#x27;f1&#x27;, scoring=[&#x27;accuracy&#x27;, &#x27;precision&#x27;, &#x27;recall&#x27;, &#x27;f1&#x27;])</pre><b>In a Jupyter environment, please rerun this cell to show the HTML representation or trust the notebook. <br />On GitHub, the HTML representation is unable to render, please try loading this page with nbviewer.org.</b></div><div class=\"sk-container\" hidden><div class=\"sk-item sk-dashed-wrapped\"><div class=\"sk-label-container\"><div class=\"sk-label sk-toggleable\"><input class=\"sk-toggleable__control sk-hidden--visually\" id=\"sk-estimator-id-4\" type=\"checkbox\" ><label for=\"sk-estimator-id-4\" class=\"sk-toggleable__label sk-toggleable__label-arrow\">GridSearchCV</label><div class=\"sk-toggleable__content\"><pre>GridSearchCV(cv=4,\n",
              "             estimator=XGBClassifier(base_score=None, booster=None,\n",
              "                                     callbacks=None, colsample_bylevel=None,\n",
              "                                     colsample_bynode=None,\n",
              "                                     colsample_bytree=None, device=None,\n",
              "                                     early_stopping_rounds=None,\n",
              "                                     enable_categorical=False, eval_metric=None,\n",
              "                                     feature_types=None, gamma=None,\n",
              "                                     grow_policy=None, importance_type=None,\n",
              "                                     interaction_constraints=None,\n",
              "                                     learning_rate=None,...\n",
              "                                     max_delta_step=None, max_depth=None,\n",
              "                                     max_leaves=None, min_child_weight=None,\n",
              "                                     missing=nan, monotone_constraints=None,\n",
              "                                     multi_strategy=None, n_estimators=None,\n",
              "                                     n_jobs=None, num_parallel_tree=None,\n",
              "                                     random_state=0, ...),\n",
              "             param_grid={&#x27;learning_rate&#x27;: [0.01, 0.1], &#x27;max_depth&#x27;: [6, 12],\n",
              "                         &#x27;min_child_weight&#x27;: [3, 5], &#x27;n_estimators&#x27;: [300]},\n",
              "             refit=&#x27;f1&#x27;, scoring=[&#x27;accuracy&#x27;, &#x27;precision&#x27;, &#x27;recall&#x27;, &#x27;f1&#x27;])</pre></div></div></div><div class=\"sk-parallel\"><div class=\"sk-parallel-item\"><div class=\"sk-item\"><div class=\"sk-label-container\"><div class=\"sk-label sk-toggleable\"><input class=\"sk-toggleable__control sk-hidden--visually\" id=\"sk-estimator-id-5\" type=\"checkbox\" ><label for=\"sk-estimator-id-5\" class=\"sk-toggleable__label sk-toggleable__label-arrow\">estimator: XGBClassifier</label><div class=\"sk-toggleable__content\"><pre>XGBClassifier(base_score=None, booster=None, callbacks=None,\n",
              "              colsample_bylevel=None, colsample_bynode=None,\n",
              "              colsample_bytree=None, device=None, early_stopping_rounds=None,\n",
              "              enable_categorical=False, eval_metric=None, feature_types=None,\n",
              "              gamma=None, grow_policy=None, importance_type=None,\n",
              "              interaction_constraints=None, learning_rate=None, max_bin=None,\n",
              "              max_cat_threshold=None, max_cat_to_onehot=None,\n",
              "              max_delta_step=None, max_depth=None, max_leaves=None,\n",
              "              min_child_weight=None, missing=nan, monotone_constraints=None,\n",
              "              multi_strategy=None, n_estimators=None, n_jobs=None,\n",
              "              num_parallel_tree=None, random_state=0, ...)</pre></div></div></div><div class=\"sk-serial\"><div class=\"sk-item\"><div class=\"sk-estimator sk-toggleable\"><input class=\"sk-toggleable__control sk-hidden--visually\" id=\"sk-estimator-id-6\" type=\"checkbox\" ><label for=\"sk-estimator-id-6\" class=\"sk-toggleable__label sk-toggleable__label-arrow\">XGBClassifier</label><div class=\"sk-toggleable__content\"><pre>XGBClassifier(base_score=None, booster=None, callbacks=None,\n",
              "              colsample_bylevel=None, colsample_bynode=None,\n",
              "              colsample_bytree=None, device=None, early_stopping_rounds=None,\n",
              "              enable_categorical=False, eval_metric=None, feature_types=None,\n",
              "              gamma=None, grow_policy=None, importance_type=None,\n",
              "              interaction_constraints=None, learning_rate=None, max_bin=None,\n",
              "              max_cat_threshold=None, max_cat_to_onehot=None,\n",
              "              max_delta_step=None, max_depth=None, max_leaves=None,\n",
              "              min_child_weight=None, missing=nan, monotone_constraints=None,\n",
              "              multi_strategy=None, n_estimators=None, n_jobs=None,\n",
              "              num_parallel_tree=None, random_state=0, ...)</pre></div></div></div></div></div></div></div></div></div></div>"
            ],
            "text/plain": [
              "GridSearchCV(cv=4,\n",
              "             estimator=XGBClassifier(base_score=None, booster=None,\n",
              "                                     callbacks=None, colsample_bylevel=None,\n",
              "                                     colsample_bynode=None,\n",
              "                                     colsample_bytree=None, device=None,\n",
              "                                     early_stopping_rounds=None,\n",
              "                                     enable_categorical=False, eval_metric=None,\n",
              "                                     feature_types=None, gamma=None,\n",
              "                                     grow_policy=None, importance_type=None,\n",
              "                                     interaction_constraints=None,\n",
              "                                     learning_rate=None,...\n",
              "                                     max_delta_step=None, max_depth=None,\n",
              "                                     max_leaves=None, min_child_weight=None,\n",
              "                                     missing=nan, monotone_constraints=None,\n",
              "                                     multi_strategy=None, n_estimators=None,\n",
              "                                     n_jobs=None, num_parallel_tree=None,\n",
              "                                     random_state=0, ...),\n",
              "             param_grid={'learning_rate': [0.01, 0.1], 'max_depth': [6, 12],\n",
              "                         'min_child_weight': [3, 5], 'n_estimators': [300]},\n",
              "             refit='f1', scoring=['accuracy', 'precision', 'recall', 'f1'])"
            ]
          },
          "execution_count": 30,
          "metadata": {},
          "output_type": "execute_result"
        }
      ],
      "source": [
        "xgb_cv.fit(X_train, y_train)"
      ]
    },
    {
      "cell_type": "markdown",
      "metadata": {
        "id": "ruQISDB76805"
      },
      "source": [
        "Get the best score from this model."
      ]
    },
    {
      "cell_type": "code",
      "execution_count": null,
      "metadata": {
        "id": "UFLTmIDm6805",
        "outputId": "3e7c2cec-b315-4d40-9db9-90ea3ceaa29c"
      },
      "outputs": [
        {
          "data": {
            "text/plain": [
              "0.24000600600949787"
            ]
          },
          "execution_count": 31,
          "metadata": {},
          "output_type": "execute_result"
        }
      ],
      "source": [
        "# Examine best score\n",
        "xgb_cv.best_score_"
      ]
    },
    {
      "cell_type": "markdown",
      "metadata": {
        "id": "fwmWDuXZ6805"
      },
      "source": [
        "And the best parameters."
      ]
    },
    {
      "cell_type": "code",
      "execution_count": null,
      "metadata": {
        "id": "cdPUCuND6805",
        "outputId": "b0e42cd4-d7d9-44fb-f35e-db700f0767c4"
      },
      "outputs": [
        {
          "data": {
            "text/plain": [
              "{'learning_rate': 0.1,\n",
              " 'max_depth': 6,\n",
              " 'min_child_weight': 3,\n",
              " 'n_estimators': 300}"
            ]
          },
          "execution_count": 32,
          "metadata": {},
          "output_type": "execute_result"
        }
      ],
      "source": [
        "# Examine best parameters\n",
        "xgb_cv.best_params_"
      ]
    },
    {
      "cell_type": "markdown",
      "metadata": {
        "id": "X8v8HTmQ7KdC"
      },
      "source": [
        "Use the `make_results()` function to output all of the scores of your model. Note that the function accepts three arguments."
      ]
    },
    {
      "cell_type": "code",
      "execution_count": null,
      "metadata": {
        "id": "QL19dH2h7KdD",
        "outputId": "71a0b063-6fb9-467b-c3bb-a31026bb540e"
      },
      "outputs": [
        {
          "data": {
            "text/html": [
              "<div>\n",
              "<style scoped>\n",
              "    .dataframe tbody tr th:only-of-type {\n",
              "        vertical-align: middle;\n",
              "    }\n",
              "\n",
              "    .dataframe tbody tr th {\n",
              "        vertical-align: top;\n",
              "    }\n",
              "\n",
              "    .dataframe thead th {\n",
              "        text-align: right;\n",
              "    }\n",
              "</style>\n",
              "<table border=\"1\" class=\"dataframe\">\n",
              "  <thead>\n",
              "    <tr style=\"text-align: right;\">\n",
              "      <th></th>\n",
              "      <th>model</th>\n",
              "      <th>precision</th>\n",
              "      <th>recall</th>\n",
              "      <th>F1</th>\n",
              "      <th>accuracy</th>\n",
              "    </tr>\n",
              "  </thead>\n",
              "  <tbody>\n",
              "    <tr>\n",
              "      <th>0</th>\n",
              "      <td>RF cv</td>\n",
              "      <td>0.472173</td>\n",
              "      <td>0.122830</td>\n",
              "      <td>0.194114</td>\n",
              "      <td>0.819792</td>\n",
              "    </tr>\n",
              "    <tr>\n",
              "      <th>0</th>\n",
              "      <td>XGB cv</td>\n",
              "      <td>0.445714</td>\n",
              "      <td>0.164266</td>\n",
              "      <td>0.240006</td>\n",
              "      <td>0.815480</td>\n",
              "    </tr>\n",
              "  </tbody>\n",
              "</table>\n",
              "</div>"
            ],
            "text/plain": [
              "    model  precision    recall        F1  accuracy\n",
              "0   RF cv   0.472173  0.122830  0.194114  0.819792\n",
              "0  XGB cv   0.445714  0.164266  0.240006  0.815480"
            ]
          },
          "execution_count": 33,
          "metadata": {},
          "output_type": "execute_result"
        }
      ],
      "source": [
        "# Call 'make_results()' on the GridSearch object\n",
        "xgb_cv_results = make_results('XGB cv', xgb_cv, 'recall')\n",
        "\n",
        "results = pd.concat([results, xgb_cv_results], axis=0)\n",
        "results"
      ]
    },
    {
      "cell_type": "markdown",
      "metadata": {
        "id": "c5IRnMO27KdD"
      },
      "source": [
        "This model fit the data even better than the random forest model. The recall score is nearly double the recall score from the logistic regression model from the previous course, and it's almost 50% better than the random forest model's recall score, while maintaining a similar accuracy and precision score."
      ]
    },
    {
      "cell_type": "markdown",
      "metadata": {
        "id": "NfX0SjJffkh1"
      },
      "source": [
        "### **Task 11. Model selection**\n",
        "\n",
        "Now, use the best random forest model and the best XGBoost model to predict on the validation data. Whichever performs better will be selected as the champion model."
      ]
    },
    {
      "cell_type": "markdown",
      "metadata": {
        "id": "chgR3Tx8fn1s"
      },
      "source": [
        "#### **Random forest**"
      ]
    },
    {
      "cell_type": "code",
      "execution_count": null,
      "metadata": {
        "id": "DUswawM2fyAf"
      },
      "outputs": [],
      "source": [
        "# Use random forest model to predict on validation data\n",
        "rf_val_preds = rf_cv.best_estimator_.predict(X_val)"
      ]
    },
    {
      "cell_type": "markdown",
      "metadata": {
        "id": "uz1eb4rqf11Z"
      },
      "source": [
        "Use the `get_test_scores()` function to generate a table of scores from the predictions on the validation data."
      ]
    },
    {
      "cell_type": "code",
      "execution_count": null,
      "metadata": {
        "id": "AJ9mCl0Uf4P4"
      },
      "outputs": [],
      "source": [
        "def get_test_scores(model_name:str, preds, y_test_data):\n",
        "    '''\n",
        "    Generate a table of test scores.\n",
        "\n",
        "    In:\n",
        "        model_name (string): Your choice: how the model will be named in the output table\n",
        "        preds: numpy array of test predictions\n",
        "        y_test_data: numpy array of y_test data\n",
        "\n",
        "    Out:\n",
        "        table: a pandas df of precision, recall, f1, and accuracy scores for your model\n",
        "    '''\n",
        "    accuracy = accuracy_score(y_test_data, preds)\n",
        "    precision = precision_score(y_test_data, preds)\n",
        "    recall = recall_score(y_test_data, preds)\n",
        "    f1 = f1_score(y_test_data, preds)\n",
        "\n",
        "    table = pd.DataFrame({'model': [model_name],\n",
        "                          'precision': [precision],\n",
        "                          'recall': [recall],\n",
        "                          'F1': [f1],\n",
        "                          'accuracy': [accuracy]\n",
        "                          })\n",
        "\n",
        "    return table"
      ]
    },
    {
      "cell_type": "code",
      "execution_count": null,
      "metadata": {
        "id": "22ANR4ZHf5NK",
        "outputId": "563849b3-8b12-4963-dac4-630de041a34e"
      },
      "outputs": [
        {
          "data": {
            "text/html": [
              "<div>\n",
              "<style scoped>\n",
              "    .dataframe tbody tr th:only-of-type {\n",
              "        vertical-align: middle;\n",
              "    }\n",
              "\n",
              "    .dataframe tbody tr th {\n",
              "        vertical-align: top;\n",
              "    }\n",
              "\n",
              "    .dataframe thead th {\n",
              "        text-align: right;\n",
              "    }\n",
              "</style>\n",
              "<table border=\"1\" class=\"dataframe\">\n",
              "  <thead>\n",
              "    <tr style=\"text-align: right;\">\n",
              "      <th></th>\n",
              "      <th>model</th>\n",
              "      <th>precision</th>\n",
              "      <th>recall</th>\n",
              "      <th>F1</th>\n",
              "      <th>accuracy</th>\n",
              "    </tr>\n",
              "  </thead>\n",
              "  <tbody>\n",
              "    <tr>\n",
              "      <th>0</th>\n",
              "      <td>RF cv</td>\n",
              "      <td>0.472173</td>\n",
              "      <td>0.122830</td>\n",
              "      <td>0.194114</td>\n",
              "      <td>0.819792</td>\n",
              "    </tr>\n",
              "    <tr>\n",
              "      <th>0</th>\n",
              "      <td>XGB cv</td>\n",
              "      <td>0.445714</td>\n",
              "      <td>0.164266</td>\n",
              "      <td>0.240006</td>\n",
              "      <td>0.815480</td>\n",
              "    </tr>\n",
              "    <tr>\n",
              "      <th>0</th>\n",
              "      <td>RF val</td>\n",
              "      <td>0.454545</td>\n",
              "      <td>0.118343</td>\n",
              "      <td>0.187793</td>\n",
              "      <td>0.818531</td>\n",
              "    </tr>\n",
              "  </tbody>\n",
              "</table>\n",
              "</div>"
            ],
            "text/plain": [
              "    model  precision    recall        F1  accuracy\n",
              "0   RF cv   0.472173  0.122830  0.194114  0.819792\n",
              "0  XGB cv   0.445714  0.164266  0.240006  0.815480\n",
              "0  RF val   0.454545  0.118343  0.187793  0.818531"
            ]
          },
          "execution_count": 39,
          "metadata": {},
          "output_type": "execute_result"
        },
        {
          "name": "stdout",
          "output_type": "stream",
          "text": [
            "[CV] END max_depth=None, max_features=1.0, max_samples=1.0, min_samples_leaf=2, min_samples_split=2, n_estimators=300; total time=  40.7s\n",
            "[CV] END max_depth=None, max_features=1.0, max_samples=1.0, min_samples_leaf=2, min_samples_split=2, n_estimators=300; total time=  40.0s\n",
            "[CV] END max_depth=None, max_features=1.0, max_samples=1.0, min_samples_leaf=2, min_samples_split=2, n_estimators=300; total time=  39.8s\n",
            "[CV] END max_depth=None, max_features=1.0, max_samples=1.0, min_samples_leaf=2, min_samples_split=2, n_estimators=300; total time=  39.1s\n",
            "[CV] END max_depth=None, max_features=1.0, max_samples=1.0, min_samples_leaf=2, min_samples_split=2, n_estimators=300; total time=  37.7s\n"
          ]
        }
      ],
      "source": [
        "# Get validation scores for RF model\n",
        "rf_val_scores = get_test_scores('RF val', rf_val_preds, y_val)\n",
        "\n",
        "# Append to the results table\n",
        "results = pd.concat([results, rf_val_scores], axis=0)\n",
        "results"
      ]
    },
    {
      "cell_type": "markdown",
      "metadata": {
        "id": "yDeuk16igBD0"
      },
      "source": [
        "Notice that the scores went down from the training scores across all metrics, but only by very little. This means that the model did not overfit the training data."
      ]
    },
    {
      "cell_type": "markdown",
      "metadata": {
        "id": "D8h2s5RpgEER"
      },
      "source": [
        "#### **XGBoost**\n",
        "\n",
        "Now, do the same thing to get the performance scores of the XGBoost model on the validation data."
      ]
    },
    {
      "cell_type": "code",
      "execution_count": null,
      "metadata": {
        "id": "mQoTuRkngHjp",
        "outputId": "23bac9c2-7095-40dc-d80f-34ee46839847"
      },
      "outputs": [
        {
          "data": {
            "text/html": [
              "<div>\n",
              "<style scoped>\n",
              "    .dataframe tbody tr th:only-of-type {\n",
              "        vertical-align: middle;\n",
              "    }\n",
              "\n",
              "    .dataframe tbody tr th {\n",
              "        vertical-align: top;\n",
              "    }\n",
              "\n",
              "    .dataframe thead th {\n",
              "        text-align: right;\n",
              "    }\n",
              "</style>\n",
              "<table border=\"1\" class=\"dataframe\">\n",
              "  <thead>\n",
              "    <tr style=\"text-align: right;\">\n",
              "      <th></th>\n",
              "      <th>model</th>\n",
              "      <th>precision</th>\n",
              "      <th>recall</th>\n",
              "      <th>F1</th>\n",
              "      <th>accuracy</th>\n",
              "    </tr>\n",
              "  </thead>\n",
              "  <tbody>\n",
              "    <tr>\n",
              "      <th>0</th>\n",
              "      <td>RF cv</td>\n",
              "      <td>0.472173</td>\n",
              "      <td>0.122830</td>\n",
              "      <td>0.194114</td>\n",
              "      <td>0.819792</td>\n",
              "    </tr>\n",
              "    <tr>\n",
              "      <th>0</th>\n",
              "      <td>XGB cv</td>\n",
              "      <td>0.445714</td>\n",
              "      <td>0.164266</td>\n",
              "      <td>0.240006</td>\n",
              "      <td>0.815480</td>\n",
              "    </tr>\n",
              "    <tr>\n",
              "      <th>0</th>\n",
              "      <td>RF val</td>\n",
              "      <td>0.454545</td>\n",
              "      <td>0.118343</td>\n",
              "      <td>0.187793</td>\n",
              "      <td>0.818531</td>\n",
              "    </tr>\n",
              "    <tr>\n",
              "      <th>0</th>\n",
              "      <td>XGB val</td>\n",
              "      <td>0.418994</td>\n",
              "      <td>0.147929</td>\n",
              "      <td>0.218659</td>\n",
              "      <td>0.812587</td>\n",
              "    </tr>\n",
              "  </tbody>\n",
              "</table>\n",
              "</div>"
            ],
            "text/plain": [
              "     model  precision    recall        F1  accuracy\n",
              "0    RF cv   0.472173  0.122830  0.194114  0.819792\n",
              "0   XGB cv   0.445714  0.164266  0.240006  0.815480\n",
              "0   RF val   0.454545  0.118343  0.187793  0.818531\n",
              "0  XGB val   0.418994  0.147929  0.218659  0.812587"
            ]
          },
          "execution_count": 40,
          "metadata": {},
          "output_type": "execute_result"
        }
      ],
      "source": [
        "# Use XGBoost model to predict on validation data\n",
        "xgb_val_preds = xgb_cv.best_estimator_.predict(X_val)\n",
        "\n",
        "# Get validation scores for XGBoost model\n",
        "xgb_val_scores = get_test_scores('XGB val', xgb_val_preds, y_val)\n",
        "\n",
        "# Append to the results table\n",
        "results = pd.concat([results, xgb_val_scores], axis=0)\n",
        "results"
      ]
    },
    {
      "cell_type": "markdown",
      "metadata": {
        "id": "GspkQqUNgIm3"
      },
      "source": [
        "Just like with the random forest model, the XGBoost model's validation scores were lower, but only very slightly. It is still the clear champion."
      ]
    },
    {
      "cell_type": "markdown",
      "metadata": {
        "id": "_HGsWfEOeWPm"
      },
      "source": [
        "<img src=\"images/Execute.png\" width=\"100\" height=\"100\" align=left>\n",
        "\n",
        "## **PACE: Execute**\n",
        "Consider the questions in your PACE Strategy Document to reflect on the Execute stage."
      ]
    },
    {
      "cell_type": "markdown",
      "metadata": {
        "id": "iOm4n_1OgUND"
      },
      "source": [
        "### **Task 12. Use champion model to predict on test data**\n",
        "\n",
        "Now, use the champion model to predict on the test dataset. This is to give a final indication of how you should expect the model to perform on new future data, should you decide to use the model."
      ]
    },
    {
      "cell_type": "code",
      "execution_count": null,
      "metadata": {
        "id": "7BkheTIsgU2b",
        "outputId": "7b5496ad-98ae-4b52-c3be-5327bc6f14be"
      },
      "outputs": [
        {
          "data": {
            "text/html": [
              "<div>\n",
              "<style scoped>\n",
              "    .dataframe tbody tr th:only-of-type {\n",
              "        vertical-align: middle;\n",
              "    }\n",
              "\n",
              "    .dataframe tbody tr th {\n",
              "        vertical-align: top;\n",
              "    }\n",
              "\n",
              "    .dataframe thead th {\n",
              "        text-align: right;\n",
              "    }\n",
              "</style>\n",
              "<table border=\"1\" class=\"dataframe\">\n",
              "  <thead>\n",
              "    <tr style=\"text-align: right;\">\n",
              "      <th></th>\n",
              "      <th>model</th>\n",
              "      <th>precision</th>\n",
              "      <th>recall</th>\n",
              "      <th>F1</th>\n",
              "      <th>accuracy</th>\n",
              "    </tr>\n",
              "  </thead>\n",
              "  <tbody>\n",
              "    <tr>\n",
              "      <th>0</th>\n",
              "      <td>RF cv</td>\n",
              "      <td>0.472173</td>\n",
              "      <td>0.122830</td>\n",
              "      <td>0.194114</td>\n",
              "      <td>0.819792</td>\n",
              "    </tr>\n",
              "    <tr>\n",
              "      <th>0</th>\n",
              "      <td>XGB cv</td>\n",
              "      <td>0.445714</td>\n",
              "      <td>0.164266</td>\n",
              "      <td>0.240006</td>\n",
              "      <td>0.815480</td>\n",
              "    </tr>\n",
              "    <tr>\n",
              "      <th>0</th>\n",
              "      <td>RF val</td>\n",
              "      <td>0.454545</td>\n",
              "      <td>0.118343</td>\n",
              "      <td>0.187793</td>\n",
              "      <td>0.818531</td>\n",
              "    </tr>\n",
              "    <tr>\n",
              "      <th>0</th>\n",
              "      <td>XGB val</td>\n",
              "      <td>0.418994</td>\n",
              "      <td>0.147929</td>\n",
              "      <td>0.218659</td>\n",
              "      <td>0.812587</td>\n",
              "    </tr>\n",
              "    <tr>\n",
              "      <th>0</th>\n",
              "      <td>XGB test</td>\n",
              "      <td>0.410959</td>\n",
              "      <td>0.177515</td>\n",
              "      <td>0.247934</td>\n",
              "      <td>0.809091</td>\n",
              "    </tr>\n",
              "  </tbody>\n",
              "</table>\n",
              "</div>"
            ],
            "text/plain": [
              "      model  precision    recall        F1  accuracy\n",
              "0     RF cv   0.472173  0.122830  0.194114  0.819792\n",
              "0    XGB cv   0.445714  0.164266  0.240006  0.815480\n",
              "0    RF val   0.454545  0.118343  0.187793  0.818531\n",
              "0   XGB val   0.418994  0.147929  0.218659  0.812587\n",
              "0  XGB test   0.410959  0.177515  0.247934  0.809091"
            ]
          },
          "execution_count": 41,
          "metadata": {},
          "output_type": "execute_result"
        }
      ],
      "source": [
        "# Use XGBoost model to predict on test data\n",
        "xgb_test_preds = xgb_cv.best_estimator_.predict(X_test)\n",
        "\n",
        "# Get test scores for XGBoost model\n",
        "xgb_test_scores = get_test_scores('XGB test', xgb_test_preds, y_test)\n",
        "\n",
        "# Append to the results table\n",
        "results = pd.concat([results, xgb_test_scores], axis=0)\n",
        "results"
      ]
    },
    {
      "cell_type": "markdown",
      "metadata": {
        "id": "F8L_LyIbgV1I"
      },
      "source": [
        "The recall was exactly the same as it was on the validation data, but the precision declined notably, which caused all of the other scores to drop slightly. Nonetheless, this is stil within the acceptable range for performance discrepancy between validation and test scores."
      ]
    },
    {
      "cell_type": "markdown",
      "metadata": {
        "id": "S5GNoz_QgWug"
      },
      "source": [
        "### **Task 13. Confusion matrix**\n",
        "\n",
        "Plot a confusion matrix of the champion model's predictions on the test data."
      ]
    },
    {
      "cell_type": "code",
      "execution_count": null,
      "metadata": {
        "id": "WF3KErX8gXPc",
        "outputId": "023c2a1b-82aa-4826-e9b2-162ae7447d21"
      },
      "outputs": [
        {
          "data": {
            "image/png": "[encoded data removed]",
            "text/plain": [
              "<Figure size 640x480 with 2 Axes>"
            ]
          },
          "metadata": {},
          "output_type": "display_data"
        }
      ],
      "source": [
        "# Generate array of values for confusion matrix\n",
        "cm = confusion_matrix(y_test, xgb_test_preds, labels=xgb_cv.classes_)\n",
        "\n",
        "# Plot confusion matrix\n",
        "disp = ConfusionMatrixDisplay(confusion_matrix=cm,\n",
        "                             display_labels=['retained', 'churned'])\n",
        "disp.plot();"
      ]
    },
    {
      "cell_type": "markdown",
      "metadata": {
        "id": "6xL4OujkgYC3"
      },
      "source": [
        "The model predicted three times as many false negatives than it did false positives, and it correctly identified only 16.6% of the users who actually churned."
      ]
    },
    {
      "cell_type": "markdown",
      "metadata": {
        "id": "P33INGPmgY1o"
      },
      "source": [
        "### **Task 14. Feature importance**\n",
        "\n",
        "Use the `plot_importance` function to inspect the most important features of your final model."
      ]
    },
    {
      "cell_type": "code",
      "execution_count": null,
      "metadata": {
        "id": "N4fc2i8XgZoE",
        "outputId": "42c5a925-ee05-42c4-996d-7509fa114b96"
      },
      "outputs": [
        {
          "data": {
            "image/png": "[encoded data removed]",
            "text/plain": [
              "<Figure size 640x480 with 1 Axes>"
            ]
          },
          "metadata": {},
          "output_type": "display_data"
        }
      ],
      "source": [
        "plot_importance(xgb_cv.best_estimator_);"
      ]
    },
    {
      "cell_type": "markdown",
      "metadata": {
        "id": "EU3GIZNrga5z"
      },
      "source": [
        "The XGBoost model made more use of many of the features than did the logistic regression model from the previous course, which weighted a single feature (`activity_days`) very heavily in its final prediction.\n",
        "\n",
        "If anything, this underscores the importance of feature engineering. Notice that engineered features accounted for six of the top 10 features (and three of the top five). Feature engineering is often one of the best and easiest ways to boost model performance.\n",
        "\n",
        "Also, note that the important features in one model might not be the same as the important features in another model. That's why you shouldn't discount features as unimportant without thoroughly examining them and understanding their relationship with the dependent variable, if possible. These discrepancies between features selected by models are typically caused by complex feature interactions.\n",
        "\n",
        "Remember, sometimes your data simply will not be predictive of your chosen target. This is common. Machine learning is a powerful tool, but it is not magic. If your data does not contain predictive signal, even the most complex algorithm will not be able to deliver consistent and accurate predictions. Do not be afraid to draw this conclusion.\n",
        "\n",
        "Even if you cannot use the model to make strong predictions, was the work done in vain? What insights can you report back to stakeholders?"
      ]
    },
    {
      "cell_type": "markdown",
      "metadata": {
        "id": "ill21hQ4ej9-"
      },
      "source": [
        "### **Task 15. Conclusion**\n",
        "\n",
        "Now that you've built and tested your machine learning models, the next step is to share your findings with the Waze leadership team. Consider the following questions as you prepare to write your executive summary. Think about key points you may want to share with the team, and what information is most relevant to the user churn project.\n",
        "\n",
        "**Questions:**\n",
        "\n",
        "# 1. Would you recommend using this model for churn prediction? Why or why not?\n",
        "\n",
        "---\n",
        "\n",
        "### **Sí, recomendaría usar el modelo XGBoost para predecir la tasa de abandono (churn), pero con ciertas observaciones.**\n",
        "\n",
        "---\n",
        "\n",
        "### **¿Por qué SÍ recomendar el modelo XGBoost?**\n",
        "\n",
        "1. **Mejor balance entre precisión y recall:**  \n",
        "   - Aunque XGBoost no tiene la mejor precisión absoluta, ofrece **mejores valores de recall y F1 score** en comparación con Random Forest.  \n",
        "   - Esto es crucial si tu objetivo es **detectar usuarios que probablemente abandonen**, incluso si implica cometer algunos errores.\n",
        "\n",
        "2. **Buen rendimiento general:**  \n",
        "   - La **accuracy** se mantiene alta (~81%), pero mejora la **detección de abandonos reales**, que es el objetivo principal del negocio.\n",
        "\n",
        "3. **Matriz de confusión más equilibrada:**  \n",
        "   - Aunque la cantidad de verdaderos positivos (TP = 90) es aún baja, es **mayor que con Random Forest**, lo que indica que XGBoost **aprende mejor los patrones de abandono**.\n",
        "\n",
        "4. **XGBoost permite ajustes más precisos:**  \n",
        "   - Este modelo ofrece muchas opciones para **mejorar su rendimiento**, como:\n",
        "     - Ajuste del umbral de clasificación.\n",
        "     - Penalización de clases desbalanceadas.\n",
        "     - Personalización de la función de pérdida.\n",
        "     - Optimización con técnicas como `early_stopping`.\n",
        "\n",
        "---\n",
        "\n",
        "###  **Pero también hay que tener en cuenta...**\n",
        "\n",
        "- **Recall aún bajo (~18%)**:  \n",
        "  Aunque XGBoost lo hace mejor que otros modelos, todavía **no está capturando suficientes abandonos reales** (FN = 417 es alto).  \n",
        "  Esto puede significar que se necesitan **mejoras adicionales**, como:\n",
        "  - Rebalancear las clases (`scale_pos_weight` en XGBoost).\n",
        "  - Ajustar el umbral de probabilidad predicha (por defecto es 0.5).\n",
        "  - Ingeniería de características más profunda.\n",
        "\n",
        "- **Costo de falsos negativos**:  \n",
        "  En un contexto como el abandono de usuarios, los **falsos negativos son costosos**, porque **no se tomarían acciones para retener a esos usuarios**.\n",
        "\n",
        "---\n",
        "\n",
        "### **Recomendación final:**\n",
        "\n",
        " **Sí se recomienda usar XGBoost** como modelo base para predecir churn.  \n",
        " **Pero también se recomienda**:  \n",
        "- Continuar optimizándolo (balanceo, hiperparámetros, umbral).  \n",
        "- Acompañarlo de **monitoreo post-implementación** para ajustar estrategias en producción.  \n",
        "- Considerar un **enfoque híbrido** donde se combinen modelos o se priorice recall sobre otras métricas si el costo del abandono es alto.\n",
        "\n",
        "# 2. What tradeoff was made by splitting the data into training, validation, and test sets as opposed to just training and test sets?\n",
        "\n",
        "\n",
        "###  **Compensación principal al usar tres conjuntos:**\n",
        "\n",
        "#### **Menor cantidad de datos para entrenamiento final**\n",
        "- Al reservar una parte del conjunto original para validación, **dispones de menos datos para entrenar el modelo**.\n",
        "- Esto **puede afectar ligeramente el rendimiento del modelo**, especialmente si el dataset no es muy grande.\n",
        "\n",
        "---\n",
        "\n",
        "### **Pero, ¿por qué vale la pena hacer esa división adicional?**\n",
        "\n",
        "####  **1. Mejor ajuste de hiperparámetros**\n",
        "- El conjunto de **validación** permite afinar hiperparámetros (por ejemplo, `max_depth`, `learning_rate`, `n_estimators`, etc.) de forma **objetiva** y sin mirar el conjunto de prueba.\n",
        "- Esto reduce el riesgo de **overfitting al conjunto de prueba**.\n",
        "\n",
        "####  **2. Prevención del sobreajuste en la evaluación**\n",
        "- Si ajustaras el modelo directamente en el conjunto de prueba, estarías haciendo que el modelo \"aprenda\" sobre ese conjunto, lo que **viola la idea de prueba ciega**.\n",
        "- El conjunto de prueba debe ser usado **solo una vez al final** para medir el rendimiento **real y generalizable** del modelo.\n",
        "\n",
        "####  **3. Mayor control en el ciclo de desarrollo**\n",
        "- Te permite experimentar libremente con arquitecturas, features y configuraciones sin comprometer la validez de tu evaluación final.\n",
        "\n",
        "---\n",
        "\n",
        "### **Resumen de la compensación:**\n",
        "\n",
        "| Con dos conjuntos (`train/test`) | Con tres conjuntos (`train/val/test`) |\n",
        "|------------------------------|-------------------------------------|\n",
        "| Más datos para entrenamiento | Menos datos para entrenamiento      |\n",
        "| Riesgo de sobreajuste al test | Menor riesgo: el test permanece virgen |\n",
        "| Hiperparámetros pueden sobreajustarse al test | Se ajustan sobre validación, test se mantiene puro |\n",
        "| Evaluación final puede estar sesgada | Evaluación final más objetiva y realista |\n",
        "\n",
        "\n",
        "# 3. What is the benefit of using a logistic regression model over an ensemble of tree-based models (like random forest or XGBoost) for classification tasks?\n",
        "\n",
        "###  **Beneficios de usar regresión logística en tareas de clasificación:**\n",
        "\n",
        "| Beneficio | Descripción |\n",
        "|----------|-------------|\n",
        "| **Interpretabilidad** | Puedes entender fácilmente **cómo cada variable afecta la predicción**. Esto es muy útil cuando necesitas explicar el modelo a equipos no técnicos o para justificar decisiones (por ejemplo, en salud, finanzas, etc.). |\n",
        "| **Modelos lineales y simples** | Es ideal cuando la **relación entre variables es lineal** o aproximadamente lineal. No necesitas grandes volúmenes de datos para obtener resultados aceptables. |\n",
        "| **Velocidad y eficiencia computacional** | Se entrena **muy rápido**, incluso con grandes conjuntos de datos. Además, consume **menos memoria y recursos**. |\n",
        "| **Menor riesgo de sobreajuste** | Tiene **menos capacidad de modelar ruido**, lo que en ciertos contextos puede ser una ventaja si los datos son ruidosos o limitados. |\n",
        "| **Probabilidades calibradas** | Devuelve **probabilidades bien calibradas**, lo que puede ser muy útil si necesitas decisiones basadas en riesgo (por ejemplo, \"usuario tiene 83% de probabilidad de abandonar\"). |\n",
        "| **Facilidad de regularización** | Soporta fácilmente **L1 y L2 regularization**, lo que ayuda a evitar el sobreajuste y hacer selección de variables. |\n",
        "\n",
        "---\n",
        "\n",
        "###  **¿Cuándo no conviene usar regresión logística sola?**\n",
        "- Cuando las relaciones entre variables y la clase **no son lineales**.\n",
        "- Cuando hay **interacciones complejas** entre variables.\n",
        "- Cuando necesitas **alta precisión predictiva** en contextos muy competitivos (por ejemplo, clasificación de imágenes, predicción de churn con muchos factores).\n",
        "\n",
        "---\n",
        "\n",
        "### Comparado con modelos como **Random Forest** o **XGBoost**:\n",
        "\n",
        "| Aspecto               | Regresión Logística       | Random Forest / XGBoost         |\n",
        "|------------------------|---------------------------|----------------------------------|\n",
        "| Interpretación         |  Muy fácil               |  Difícil (caja negra)         |\n",
        "| Precisión en tareas complejas |  Limitada si no hay linealidad |  Muy alta en relaciones no lineales |\n",
        "| Velocidad              |  Muy rápida              |  Más lenta, especialmente XGBoost |\n",
        "| Ajuste a datos no lineales |  No captura interacciones complejas |  Sí captura |\n",
        "| Requiere ingeniería de features |  Generalmente sí |  No siempre, porque los árboles lo hacen internamente |\n",
        "| Escalado necesario     |  Necesita escalado       |  No requiere                 |\n",
        "\n",
        "---\n",
        "\n",
        "### **Conclusión:**\n",
        "> Si lo que buscas es **velocidad, transparencia, interpretabilidad** y una **solución inicial rápida**, la **regresión logística** es una excelente opción.\n",
        "\n",
        "> Pero si el problema involucra **relaciones complejas, interacciones no lineales** o si necesitas **el mejor rendimiento predictivo posible**, entonces un modelo de ensamble como **Random Forest o XGBoost** será más adecuado.\n",
        "\n",
        "\n",
        "# 4. What is the benefit of using an ensemble of tree-based models like random forest or XGBoost over a logistic regression model for classification tasks?\n",
        "\n",
        "\n",
        "Usar un conjunto de modelos basados en árboles como **Random Forest** o **XGBoost** en lugar de un modelo más simple como **regresión logística** tiene múltiples ventajas, especialmente cuando se trabaja con **problemas complejos y no lineales**.\n",
        "\n",
        "---\n",
        "\n",
        "###  **Beneficios clave de usar modelos basados en árboles (Random Forest, XGBoost) en lugar de regresión logística:**\n",
        "\n",
        "| **Ventaja** | **Explicación** |\n",
        "|-------------|-----------------|\n",
        "|  **Captura relaciones no lineales** | A diferencia de la regresión logística (que modela relaciones lineales), los árboles pueden capturar relaciones **no lineales y complejas entre variables** sin necesidad de transformar los datos manualmente. |\n",
        "|  **Captura interacciones entre variables** | Los modelos de árboles consideran **combinaciones de características** de forma natural en las divisiones (splits), lo cual es muy difícil de hacer manualmente con regresión logística. |\n",
        "|  **Manejo automático de variables categóricas (en algunos casos)** | Algoritmos como XGBoost o LightGBM pueden trabajar directamente con variables categóricas codificadas, y no requieren una transformación tan estricta como la regresión logística. |\n",
        "|  **Importancia de características** | Pueden calcular la **importancia de cada variable** en las decisiones del modelo, ayudando a la interpretación y selección de features. |\n",
        "|  **Mayor poder predictivo** | En la mayoría de los casos, modelos como Random Forest o XGBoost **logran mejor desempeño predictivo**, especialmente en datasets grandes y variados. |\n",
        "|  **Robustos al ruido y outliers** | Los árboles no se ven tan afectados por valores extremos como la regresión logística. |\n",
        "|  **Soportan técnicas avanzadas (boosting/bagging)** | Modelos como XGBoost aplican boosting (aprenden de los errores de modelos anteriores), lo que **incrementa la precisión** del modelo final. |\n",
        "\n",
        "---\n",
        "\n",
        "###  **Ejemplo de escenarios donde Random Forest/XGBoost superan a regresión logística:**\n",
        "\n",
        "- Detección de fraude (datos desbalanceados y relaciones complejas).\n",
        "- Predicción de abandono de clientes (churn).\n",
        "- Clasificación de imágenes/texto.\n",
        "- Datos con muchos atributos y relaciones no evidentes.\n",
        "\n",
        "---\n",
        "\n",
        "###  Comparación directa:  \n",
        "| Aspecto                          | Regresión Logística       | Random Forest / XGBoost       |\n",
        "|----------------------------------|----------------------------|-------------------------------|\n",
        "| Tipo de modelo                   | Lineal                     | No lineal                     |\n",
        "| Interacciones entre variables    | Necesitan ser modeladas manualmente | Captura automáticamente |\n",
        "| Ingeniería de features           | Alta                       | Baja o automática             |\n",
        "| Precisión en datos complejos     | Limitada                   | Alta                          |\n",
        "| Interpretabilidad                | Alta                       | Media-baja (más caja negra)   |\n",
        "| Sensibilidad a outliers          | Alta                       | Baja                          |\n",
        "| Escalado de variables necesario  | Sí                         | No                            |\n",
        "| Costo computacional              | Bajo                       | Medio-alto                    |\n",
        "\n",
        "\n",
        "\n",
        "# 5. What could you do to improve this model?\n",
        "\n",
        "Para mejorar el modelo XGBoost que se ha estado utilizando para predecir la tasa de abandono, se pueden aplicar varias estrategias complementarias. Primero, es recomendable realizar un ajuste más exhaustivo de hiperparámetros clave como learning_rate, n_estimators, max_depth y scale_pos_weight, ya sea mediante GridSearchCV, RandomizedSearchCV o herramientas más avanzadas como Optuna. Además, ajustar el umbral de clasificación por debajo de 0.5 puede aumentar el recall y ayudar a detectar más abandonos, lo cual es crítico si se quiere intervenir a tiempo. También se sugiere enriquecer el modelo con ingeniería de características más profunda, incluyendo tasas, promedios e interacciones entre variables, así como aplicar técnicas de rebalanceo como scale_pos_weight o SMOTE si las clases están desbalanceadas. Para evitar sobreajuste, se puede utilizar validación cruzada estratificada junto con early_stopping. Finalmente, incorporar interpretabilidad con herramientas como SHAP puede aportar transparencia al modelo, permitiendo entender mejor qué factores influyen en el abandono y apoyar decisiones estratégicas de retención. Estas acciones combinadas permitirán no solo mejorar el rendimiento del modelo, sino también hacerlo más útil y accionable para el negocio.\n",
        "\n",
        "\n",
        "# 6. What additional features would you like to have to help improve the model?\n",
        "\n",
        "\n",
        "### **1. Comportamiento reciente del usuario**\n",
        "- **Días desde la última sesión**: mide inactividad.\n",
        "- **Tendencia de uso**: aumento o disminución del número de sesiones en las últimas semanas.\n",
        "- **Cambio en la frecuencia de uso**: comparación entre uso histórico vs. uso reciente.\n",
        "- **Variabilidad de conducción**: ¿es regular o intermitente?\n",
        "\n",
        "---\n",
        "\n",
        "###  **2. Variables temporales**\n",
        "- **Antigüedad del usuario**: tiempo desde su primera sesión (en días o semanas).\n",
        "- **Hora promedio de conducción**: ¿conduce de día, tarde o noche?\n",
        "- **Días activos consecutivos o más largos sin usar la app**: patrón de continuidad o abandono.\n",
        "\n",
        "---\n",
        "\n",
        "### **3. Variables contextuales del entorno**\n",
        "- **Condiciones de tráfico promedio en sus rutas** (si está disponible).\n",
        "- **Tipo de zonas que recorre**: urbana, rural, autopistas, etc.\n",
        "- **Eventos externos**: promociones, actualizaciones de la app, cambios en el clima.\n",
        "\n",
        "---\n",
        "\n",
        "### **4. Interacción con la app**\n",
        "- **Número de notificaciones abiertas**.\n",
        "- **Clicks o interacciones en funcionalidades específicas** (por ejemplo: informes, navegación).\n",
        "- **Errores reportados o cierres forzados**.\n",
        "\n",
        "---\n",
        "\n",
        "### **5. Datos demográficos o de perfil (si están disponibles)**\n",
        "- **Edad** o rango etario.\n",
        "- **Género**.\n",
        "- **Ubicación geográfica**.\n",
        "- **Tipo de vehículo** (si se conoce): taxi, moto, auto particular.\n",
        "\n",
        "---\n",
        "\n",
        "### **6. Variables de valor comercial**\n",
        "- **Historial de pagos o suscripciones premium**.\n",
        "- **Participación en programas de recompensas** o promociones.\n",
        "- **Valor estimado del cliente (CLV)**.\n",
        "\n",
        "---\n",
        "\n",
        "### **7. Interacciones derivadas**\n",
        "- **Ratios**: sesiones por km, km por día, etc.\n",
        "- **Indicadores booleanos**: `usuario_inactivo_7_dias`, `uso_bajo`, etc.\n",
        "- **Combinaciones de variables**: por ejemplo, `device * uso`, o `clase_de_usuario * km`.\n",
        "\n",
        "---\n",
        "\n",
        "### **¿Por qué son valiosas estas variables?**\n",
        "Estas características permiten capturar señales **anticipadas de desinterés o deserción**, **cambios en el comportamiento** y diferencias entre **usuarios comprometidos vs. inactivos**. Al enriquecer el conjunto de datos con este tipo de información, el modelo puede **aprender patrones más profundos y precisos**, lo que se traduce en un **mejor desempeño en la predicción del abandono**.\n",
        "\n",
        "---\n",
        "\n",
        "¿Quieres que te ayude a crear alguna de estas variables paso a paso con código o hacer un análisis exploratorio para ver cuáles serían más útiles según tus datos actuales?"
      ]
    },
    {
      "cell_type": "markdown",
      "metadata": {
        "id": "_NrXTUydBady"
      },
      "source": []
    },
    {
      "cell_type": "markdown",
      "metadata": {
        "id": "3eUj8ARYnLPa"
      },
      "source": [
        "**Congratulations!** You've completed this lab. However, you may not notice a green check mark next to this item on Coursera's platform. Please continue your progress regardless of the check mark. Just click on the \"save\" icon at the top of this notebook to ensure your work has been logged."
      ]
    },
    {
      "cell_type": "code",
      "execution_count": null,
      "metadata": {
        "id": "LewCt_dGnLPa"
      },
      "outputs": [],
      "source": []
    }
  ],
  "metadata": {
    "colab": {
      "provenance": []
    },
    "kernelspec": {
      "display_name": "Python 3 (ipykernel)",
      "language": "python",
      "name": "python3"
    },
    "language_info": {
      "codemirror_mode": {
        "name": "ipython",
        "version": 3
      },
      "file_extension": ".py",
      "mimetype": "text/x-python",
      "name": "python",
      "nbconvert_exporter": "python",
      "pygments_lexer": "ipython3",
      "version": "3.10.6"
    }
  },
  "nbformat": 4,
  "nbformat_minor": 0
}